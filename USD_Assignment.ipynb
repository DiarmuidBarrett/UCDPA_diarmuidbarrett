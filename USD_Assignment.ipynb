{
 "cells": [
  {
   "cell_type": "code",
   "execution_count": 131,
   "id": "5ff9d258",
   "metadata": {},
   "outputs": [],
   "source": [
    "import requests"
   ]
  },
  {
   "cell_type": "code",
   "execution_count": 132,
   "id": "9cd6b323",
   "metadata": {},
   "outputs": [],
   "source": [
    "import numpy as np"
   ]
  },
  {
   "cell_type": "code",
   "execution_count": 133,
   "id": "438ea361",
   "metadata": {},
   "outputs": [],
   "source": [
    "brent_oil_data = pd.read_excel('Brent_Oil_Data.xls', header = None)"
   ]
  },
  {
   "cell_type": "code",
   "execution_count": 134,
   "id": "a9b9eaa1",
   "metadata": {
    "scrolled": true
   },
   "outputs": [
    {
     "name": "stdout",
     "output_type": "stream",
     "text": [
      "                        0                                                  1\n",
      "0        Back to Contents  Data 1: Europe Brent Spot Price FOB (Dollars p...\n",
      "1               Sourcekey                                              RBRTE\n",
      "2                    Date   Europe Brent Spot Price FOB (Dollars per Barrel)\n",
      "3     1987-05-20 00:00:00                                              18.63\n",
      "4     1987-05-21 00:00:00                                              18.45\n",
      "...                   ...                                                ...\n",
      "8909  2022-06-21 00:00:00                                             118.51\n",
      "8910  2022-06-22 00:00:00                                             115.54\n",
      "8911  2022-06-23 00:00:00                                              114.5\n",
      "8912  2022-06-24 00:00:00                                             117.36\n",
      "8913  2022-06-27 00:00:00                                             119.69\n",
      "\n",
      "[8914 rows x 2 columns]\n"
     ]
    }
   ],
   "source": [
    "print(brent_oil_data)"
   ]
  },
  {
   "cell_type": "code",
   "execution_count": 135,
   "id": "a720e0d4",
   "metadata": {},
   "outputs": [],
   "source": [
    "brent_oil_price = pd.DataFrame(brent_oil_data)"
   ]
  },
  {
   "cell_type": "code",
   "execution_count": 136,
   "id": "d2a0d74b",
   "metadata": {},
   "outputs": [
    {
     "name": "stdout",
     "output_type": "stream",
     "text": [
      "                        0                                                  1\n",
      "0        Back to Contents  Data 1: Europe Brent Spot Price FOB (Dollars p...\n",
      "1               Sourcekey                                              RBRTE\n",
      "2                    Date   Europe Brent Spot Price FOB (Dollars per Barrel)\n",
      "3     1987-05-20 00:00:00                                              18.63\n",
      "4     1987-05-21 00:00:00                                              18.45\n",
      "...                   ...                                                ...\n",
      "8909  2022-06-21 00:00:00                                             118.51\n",
      "8910  2022-06-22 00:00:00                                             115.54\n",
      "8911  2022-06-23 00:00:00                                              114.5\n",
      "8912  2022-06-24 00:00:00                                             117.36\n",
      "8913  2022-06-27 00:00:00                                             119.69\n",
      "\n",
      "[8914 rows x 2 columns]\n"
     ]
    }
   ],
   "source": [
    "print(brent_oil_price)"
   ]
  },
  {
   "cell_type": "code",
   "execution_count": 137,
   "id": "540b9760",
   "metadata": {},
   "outputs": [
    {
     "name": "stdout",
     "output_type": "stream",
     "text": [
      "                        0                                                  1\n",
      "0        Back to Contents  Data 1: Europe Brent Spot Price FOB (Dollars p...\n",
      "1               Sourcekey                                              RBRTE\n",
      "2                    Date   Europe Brent Spot Price FOB (Dollars per Barrel)\n",
      "3     1987-05-20 00:00:00                                              18.63\n",
      "4     1987-05-21 00:00:00                                              18.45\n",
      "...                   ...                                                ...\n",
      "8909  2022-06-21 00:00:00                                             118.51\n",
      "8910  2022-06-22 00:00:00                                             115.54\n",
      "8911  2022-06-23 00:00:00                                              114.5\n",
      "8912  2022-06-24 00:00:00                                             117.36\n",
      "8913  2022-06-27 00:00:00                                             119.69\n",
      "\n",
      "[8914 rows x 2 columns]\n"
     ]
    }
   ],
   "source": [
    "print(brent_oil_price)"
   ]
  },
  {
   "cell_type": "code",
   "execution_count": 138,
   "id": "cc1da053",
   "metadata": {},
   "outputs": [],
   "source": [
    "brent_oil_price = brent_oil_price.iloc[2:]"
   ]
  },
  {
   "cell_type": "code",
   "execution_count": 139,
   "id": "19627c22",
   "metadata": {},
   "outputs": [
    {
     "name": "stdout",
     "output_type": "stream",
     "text": [
      "                        0                                                 1\n",
      "2                    Date  Europe Brent Spot Price FOB (Dollars per Barrel)\n",
      "3     1987-05-20 00:00:00                                             18.63\n",
      "4     1987-05-21 00:00:00                                             18.45\n",
      "5     1987-05-22 00:00:00                                             18.55\n",
      "6     1987-05-25 00:00:00                                              18.6\n",
      "...                   ...                                               ...\n",
      "8909  2022-06-21 00:00:00                                            118.51\n",
      "8910  2022-06-22 00:00:00                                            115.54\n",
      "8911  2022-06-23 00:00:00                                             114.5\n",
      "8912  2022-06-24 00:00:00                                            117.36\n",
      "8913  2022-06-27 00:00:00                                            119.69\n",
      "\n",
      "[8912 rows x 2 columns]\n"
     ]
    }
   ],
   "source": [
    "print(brent_oil_price)"
   ]
  },
  {
   "cell_type": "code",
   "execution_count": 140,
   "id": "5550b8de",
   "metadata": {},
   "outputs": [
    {
     "data": {
      "text/html": [
       "<div>\n",
       "<style scoped>\n",
       "    .dataframe tbody tr th:only-of-type {\n",
       "        vertical-align: middle;\n",
       "    }\n",
       "\n",
       "    .dataframe tbody tr th {\n",
       "        vertical-align: top;\n",
       "    }\n",
       "\n",
       "    .dataframe thead th {\n",
       "        text-align: right;\n",
       "    }\n",
       "</style>\n",
       "<table border=\"1\" class=\"dataframe\">\n",
       "  <thead>\n",
       "    <tr style=\"text-align: right;\">\n",
       "      <th></th>\n",
       "      <th>0</th>\n",
       "      <th>1</th>\n",
       "    </tr>\n",
       "  </thead>\n",
       "  <tbody>\n",
       "    <tr>\n",
       "      <th>0</th>\n",
       "      <td>Date</td>\n",
       "      <td>Europe Brent Spot Price FOB (Dollars per Barrel)</td>\n",
       "    </tr>\n",
       "    <tr>\n",
       "      <th>1</th>\n",
       "      <td>1987-05-20 00:00:00</td>\n",
       "      <td>18.63</td>\n",
       "    </tr>\n",
       "    <tr>\n",
       "      <th>2</th>\n",
       "      <td>1987-05-21 00:00:00</td>\n",
       "      <td>18.45</td>\n",
       "    </tr>\n",
       "    <tr>\n",
       "      <th>3</th>\n",
       "      <td>1987-05-22 00:00:00</td>\n",
       "      <td>18.55</td>\n",
       "    </tr>\n",
       "    <tr>\n",
       "      <th>4</th>\n",
       "      <td>1987-05-25 00:00:00</td>\n",
       "      <td>18.6</td>\n",
       "    </tr>\n",
       "    <tr>\n",
       "      <th>...</th>\n",
       "      <td>...</td>\n",
       "      <td>...</td>\n",
       "    </tr>\n",
       "    <tr>\n",
       "      <th>8907</th>\n",
       "      <td>2022-06-21 00:00:00</td>\n",
       "      <td>118.51</td>\n",
       "    </tr>\n",
       "    <tr>\n",
       "      <th>8908</th>\n",
       "      <td>2022-06-22 00:00:00</td>\n",
       "      <td>115.54</td>\n",
       "    </tr>\n",
       "    <tr>\n",
       "      <th>8909</th>\n",
       "      <td>2022-06-23 00:00:00</td>\n",
       "      <td>114.5</td>\n",
       "    </tr>\n",
       "    <tr>\n",
       "      <th>8910</th>\n",
       "      <td>2022-06-24 00:00:00</td>\n",
       "      <td>117.36</td>\n",
       "    </tr>\n",
       "    <tr>\n",
       "      <th>8911</th>\n",
       "      <td>2022-06-27 00:00:00</td>\n",
       "      <td>119.69</td>\n",
       "    </tr>\n",
       "  </tbody>\n",
       "</table>\n",
       "<p>8912 rows × 2 columns</p>\n",
       "</div>"
      ],
      "text/plain": [
       "                        0                                                 1\n",
       "0                    Date  Europe Brent Spot Price FOB (Dollars per Barrel)\n",
       "1     1987-05-20 00:00:00                                             18.63\n",
       "2     1987-05-21 00:00:00                                             18.45\n",
       "3     1987-05-22 00:00:00                                             18.55\n",
       "4     1987-05-25 00:00:00                                              18.6\n",
       "...                   ...                                               ...\n",
       "8907  2022-06-21 00:00:00                                            118.51\n",
       "8908  2022-06-22 00:00:00                                            115.54\n",
       "8909  2022-06-23 00:00:00                                             114.5\n",
       "8910  2022-06-24 00:00:00                                            117.36\n",
       "8911  2022-06-27 00:00:00                                            119.69\n",
       "\n",
       "[8912 rows x 2 columns]"
      ]
     },
     "execution_count": 140,
     "metadata": {},
     "output_type": "execute_result"
    }
   ],
   "source": [
    "brent_oil_price.reset_index(drop=True)"
   ]
  },
  {
   "cell_type": "code",
   "execution_count": 141,
   "id": "a3159175",
   "metadata": {},
   "outputs": [],
   "source": [
    "brent_oil_price.columns = brent_oil_price.iloc[0]"
   ]
  },
  {
   "cell_type": "code",
   "execution_count": 142,
   "id": "8d753d42",
   "metadata": {},
   "outputs": [
    {
     "name": "stdout",
     "output_type": "stream",
     "text": [
      "2                    Date  Europe Brent Spot Price FOB (Dollars per Barrel)\n",
      "2                    Date  Europe Brent Spot Price FOB (Dollars per Barrel)\n",
      "3     1987-05-20 00:00:00                                             18.63\n",
      "4     1987-05-21 00:00:00                                             18.45\n",
      "5     1987-05-22 00:00:00                                             18.55\n",
      "6     1987-05-25 00:00:00                                              18.6\n",
      "...                   ...                                               ...\n",
      "8909  2022-06-21 00:00:00                                            118.51\n",
      "8910  2022-06-22 00:00:00                                            115.54\n",
      "8911  2022-06-23 00:00:00                                             114.5\n",
      "8912  2022-06-24 00:00:00                                            117.36\n",
      "8913  2022-06-27 00:00:00                                            119.69\n",
      "\n",
      "[8912 rows x 2 columns]\n"
     ]
    }
   ],
   "source": [
    "print(brent_oil_price)"
   ]
  },
  {
   "cell_type": "code",
   "execution_count": 143,
   "id": "3e15b225",
   "metadata": {},
   "outputs": [
    {
     "data": {
      "text/html": [
       "<div>\n",
       "<style scoped>\n",
       "    .dataframe tbody tr th:only-of-type {\n",
       "        vertical-align: middle;\n",
       "    }\n",
       "\n",
       "    .dataframe tbody tr th {\n",
       "        vertical-align: top;\n",
       "    }\n",
       "\n",
       "    .dataframe thead th {\n",
       "        text-align: right;\n",
       "    }\n",
       "</style>\n",
       "<table border=\"1\" class=\"dataframe\">\n",
       "  <thead>\n",
       "    <tr style=\"text-align: right;\">\n",
       "      <th>2</th>\n",
       "      <th>Date</th>\n",
       "      <th>Europe Brent Spot Price FOB (Dollars per Barrel)</th>\n",
       "    </tr>\n",
       "  </thead>\n",
       "  <tbody>\n",
       "    <tr>\n",
       "      <th>0</th>\n",
       "      <td>Date</td>\n",
       "      <td>Europe Brent Spot Price FOB (Dollars per Barrel)</td>\n",
       "    </tr>\n",
       "    <tr>\n",
       "      <th>1</th>\n",
       "      <td>1987-05-20 00:00:00</td>\n",
       "      <td>18.63</td>\n",
       "    </tr>\n",
       "    <tr>\n",
       "      <th>2</th>\n",
       "      <td>1987-05-21 00:00:00</td>\n",
       "      <td>18.45</td>\n",
       "    </tr>\n",
       "    <tr>\n",
       "      <th>3</th>\n",
       "      <td>1987-05-22 00:00:00</td>\n",
       "      <td>18.55</td>\n",
       "    </tr>\n",
       "    <tr>\n",
       "      <th>4</th>\n",
       "      <td>1987-05-25 00:00:00</td>\n",
       "      <td>18.6</td>\n",
       "    </tr>\n",
       "    <tr>\n",
       "      <th>...</th>\n",
       "      <td>...</td>\n",
       "      <td>...</td>\n",
       "    </tr>\n",
       "    <tr>\n",
       "      <th>8907</th>\n",
       "      <td>2022-06-21 00:00:00</td>\n",
       "      <td>118.51</td>\n",
       "    </tr>\n",
       "    <tr>\n",
       "      <th>8908</th>\n",
       "      <td>2022-06-22 00:00:00</td>\n",
       "      <td>115.54</td>\n",
       "    </tr>\n",
       "    <tr>\n",
       "      <th>8909</th>\n",
       "      <td>2022-06-23 00:00:00</td>\n",
       "      <td>114.5</td>\n",
       "    </tr>\n",
       "    <tr>\n",
       "      <th>8910</th>\n",
       "      <td>2022-06-24 00:00:00</td>\n",
       "      <td>117.36</td>\n",
       "    </tr>\n",
       "    <tr>\n",
       "      <th>8911</th>\n",
       "      <td>2022-06-27 00:00:00</td>\n",
       "      <td>119.69</td>\n",
       "    </tr>\n",
       "  </tbody>\n",
       "</table>\n",
       "<p>8912 rows × 2 columns</p>\n",
       "</div>"
      ],
      "text/plain": [
       "2                    Date  Europe Brent Spot Price FOB (Dollars per Barrel)\n",
       "0                    Date  Europe Brent Spot Price FOB (Dollars per Barrel)\n",
       "1     1987-05-20 00:00:00                                             18.63\n",
       "2     1987-05-21 00:00:00                                             18.45\n",
       "3     1987-05-22 00:00:00                                             18.55\n",
       "4     1987-05-25 00:00:00                                              18.6\n",
       "...                   ...                                               ...\n",
       "8907  2022-06-21 00:00:00                                            118.51\n",
       "8908  2022-06-22 00:00:00                                            115.54\n",
       "8909  2022-06-23 00:00:00                                             114.5\n",
       "8910  2022-06-24 00:00:00                                            117.36\n",
       "8911  2022-06-27 00:00:00                                            119.69\n",
       "\n",
       "[8912 rows x 2 columns]"
      ]
     },
     "execution_count": 143,
     "metadata": {},
     "output_type": "execute_result"
    }
   ],
   "source": [
    "brent_oil_price.reset_index(drop=True)"
   ]
  },
  {
   "cell_type": "code",
   "execution_count": 144,
   "id": "23e37641",
   "metadata": {},
   "outputs": [],
   "source": [
    "brent_oil_price.columns = brent_oil_price.iloc[0]"
   ]
  },
  {
   "cell_type": "code",
   "execution_count": 145,
   "id": "6b424b8f",
   "metadata": {},
   "outputs": [
    {
     "name": "stdout",
     "output_type": "stream",
     "text": [
      "2                    Date  Europe Brent Spot Price FOB (Dollars per Barrel)\n",
      "2                    Date  Europe Brent Spot Price FOB (Dollars per Barrel)\n",
      "3     1987-05-20 00:00:00                                             18.63\n",
      "4     1987-05-21 00:00:00                                             18.45\n",
      "5     1987-05-22 00:00:00                                             18.55\n",
      "6     1987-05-25 00:00:00                                              18.6\n",
      "...                   ...                                               ...\n",
      "8909  2022-06-21 00:00:00                                            118.51\n",
      "8910  2022-06-22 00:00:00                                            115.54\n",
      "8911  2022-06-23 00:00:00                                             114.5\n",
      "8912  2022-06-24 00:00:00                                            117.36\n",
      "8913  2022-06-27 00:00:00                                            119.69\n",
      "\n",
      "[8912 rows x 2 columns]\n"
     ]
    }
   ],
   "source": [
    "print(brent_oil_price)"
   ]
  },
  {
   "cell_type": "code",
   "execution_count": 146,
   "id": "bf8981af",
   "metadata": {},
   "outputs": [],
   "source": [
    "brent_oil_price.columns = brent_oil_price.iloc[0]"
   ]
  },
  {
   "cell_type": "code",
   "execution_count": 147,
   "id": "63de757a",
   "metadata": {},
   "outputs": [
    {
     "name": "stdout",
     "output_type": "stream",
     "text": [
      "2                    Date  Europe Brent Spot Price FOB (Dollars per Barrel)\n",
      "2                    Date  Europe Brent Spot Price FOB (Dollars per Barrel)\n",
      "3     1987-05-20 00:00:00                                             18.63\n",
      "4     1987-05-21 00:00:00                                             18.45\n",
      "5     1987-05-22 00:00:00                                             18.55\n",
      "6     1987-05-25 00:00:00                                              18.6\n",
      "...                   ...                                               ...\n",
      "8909  2022-06-21 00:00:00                                            118.51\n",
      "8910  2022-06-22 00:00:00                                            115.54\n",
      "8911  2022-06-23 00:00:00                                             114.5\n",
      "8912  2022-06-24 00:00:00                                            117.36\n",
      "8913  2022-06-27 00:00:00                                            119.69\n",
      "\n",
      "[8912 rows x 2 columns]\n"
     ]
    }
   ],
   "source": [
    "print(brent_oil_price)"
   ]
  },
  {
   "cell_type": "code",
   "execution_count": 148,
   "id": "c2c910df",
   "metadata": {},
   "outputs": [
    {
     "data": {
      "text/html": [
       "<div>\n",
       "<style scoped>\n",
       "    .dataframe tbody tr th:only-of-type {\n",
       "        vertical-align: middle;\n",
       "    }\n",
       "\n",
       "    .dataframe tbody tr th {\n",
       "        vertical-align: top;\n",
       "    }\n",
       "\n",
       "    .dataframe thead th {\n",
       "        text-align: right;\n",
       "    }\n",
       "</style>\n",
       "<table border=\"1\" class=\"dataframe\">\n",
       "  <thead>\n",
       "    <tr style=\"text-align: right;\">\n",
       "      <th>2</th>\n",
       "      <th>Date</th>\n",
       "      <th>Europe Brent Spot Price FOB (Dollars per Barrel)</th>\n",
       "    </tr>\n",
       "  </thead>\n",
       "  <tbody>\n",
       "    <tr>\n",
       "      <th>0</th>\n",
       "      <td>Date</td>\n",
       "      <td>Europe Brent Spot Price FOB (Dollars per Barrel)</td>\n",
       "    </tr>\n",
       "    <tr>\n",
       "      <th>1</th>\n",
       "      <td>1987-05-20 00:00:00</td>\n",
       "      <td>18.63</td>\n",
       "    </tr>\n",
       "    <tr>\n",
       "      <th>2</th>\n",
       "      <td>1987-05-21 00:00:00</td>\n",
       "      <td>18.45</td>\n",
       "    </tr>\n",
       "    <tr>\n",
       "      <th>3</th>\n",
       "      <td>1987-05-22 00:00:00</td>\n",
       "      <td>18.55</td>\n",
       "    </tr>\n",
       "    <tr>\n",
       "      <th>4</th>\n",
       "      <td>1987-05-25 00:00:00</td>\n",
       "      <td>18.6</td>\n",
       "    </tr>\n",
       "    <tr>\n",
       "      <th>...</th>\n",
       "      <td>...</td>\n",
       "      <td>...</td>\n",
       "    </tr>\n",
       "    <tr>\n",
       "      <th>8907</th>\n",
       "      <td>2022-06-21 00:00:00</td>\n",
       "      <td>118.51</td>\n",
       "    </tr>\n",
       "    <tr>\n",
       "      <th>8908</th>\n",
       "      <td>2022-06-22 00:00:00</td>\n",
       "      <td>115.54</td>\n",
       "    </tr>\n",
       "    <tr>\n",
       "      <th>8909</th>\n",
       "      <td>2022-06-23 00:00:00</td>\n",
       "      <td>114.5</td>\n",
       "    </tr>\n",
       "    <tr>\n",
       "      <th>8910</th>\n",
       "      <td>2022-06-24 00:00:00</td>\n",
       "      <td>117.36</td>\n",
       "    </tr>\n",
       "    <tr>\n",
       "      <th>8911</th>\n",
       "      <td>2022-06-27 00:00:00</td>\n",
       "      <td>119.69</td>\n",
       "    </tr>\n",
       "  </tbody>\n",
       "</table>\n",
       "<p>8912 rows × 2 columns</p>\n",
       "</div>"
      ],
      "text/plain": [
       "2                    Date  Europe Brent Spot Price FOB (Dollars per Barrel)\n",
       "0                    Date  Europe Brent Spot Price FOB (Dollars per Barrel)\n",
       "1     1987-05-20 00:00:00                                             18.63\n",
       "2     1987-05-21 00:00:00                                             18.45\n",
       "3     1987-05-22 00:00:00                                             18.55\n",
       "4     1987-05-25 00:00:00                                              18.6\n",
       "...                   ...                                               ...\n",
       "8907  2022-06-21 00:00:00                                            118.51\n",
       "8908  2022-06-22 00:00:00                                            115.54\n",
       "8909  2022-06-23 00:00:00                                             114.5\n",
       "8910  2022-06-24 00:00:00                                            117.36\n",
       "8911  2022-06-27 00:00:00                                            119.69\n",
       "\n",
       "[8912 rows x 2 columns]"
      ]
     },
     "execution_count": 148,
     "metadata": {},
     "output_type": "execute_result"
    }
   ],
   "source": [
    "brent_oil_price.reset_index(drop=True)"
   ]
  },
  {
   "cell_type": "code",
   "execution_count": 149,
   "id": "039cda8b",
   "metadata": {},
   "outputs": [],
   "source": [
    "brent_oil_price.columns = brent_oil_price.iloc[0]"
   ]
  },
  {
   "cell_type": "code",
   "execution_count": 150,
   "id": "890a0b4c",
   "metadata": {},
   "outputs": [
    {
     "data": {
      "text/html": [
       "<div>\n",
       "<style scoped>\n",
       "    .dataframe tbody tr th:only-of-type {\n",
       "        vertical-align: middle;\n",
       "    }\n",
       "\n",
       "    .dataframe tbody tr th {\n",
       "        vertical-align: top;\n",
       "    }\n",
       "\n",
       "    .dataframe thead th {\n",
       "        text-align: right;\n",
       "    }\n",
       "</style>\n",
       "<table border=\"1\" class=\"dataframe\">\n",
       "  <thead>\n",
       "    <tr style=\"text-align: right;\">\n",
       "      <th>2</th>\n",
       "      <th>Date</th>\n",
       "      <th>Europe Brent Spot Price FOB (Dollars per Barrel)</th>\n",
       "    </tr>\n",
       "  </thead>\n",
       "  <tbody>\n",
       "    <tr>\n",
       "      <th>0</th>\n",
       "      <td>Date</td>\n",
       "      <td>Europe Brent Spot Price FOB (Dollars per Barrel)</td>\n",
       "    </tr>\n",
       "    <tr>\n",
       "      <th>1</th>\n",
       "      <td>1987-05-20 00:00:00</td>\n",
       "      <td>18.63</td>\n",
       "    </tr>\n",
       "    <tr>\n",
       "      <th>2</th>\n",
       "      <td>1987-05-21 00:00:00</td>\n",
       "      <td>18.45</td>\n",
       "    </tr>\n",
       "    <tr>\n",
       "      <th>3</th>\n",
       "      <td>1987-05-22 00:00:00</td>\n",
       "      <td>18.55</td>\n",
       "    </tr>\n",
       "    <tr>\n",
       "      <th>4</th>\n",
       "      <td>1987-05-25 00:00:00</td>\n",
       "      <td>18.6</td>\n",
       "    </tr>\n",
       "    <tr>\n",
       "      <th>...</th>\n",
       "      <td>...</td>\n",
       "      <td>...</td>\n",
       "    </tr>\n",
       "    <tr>\n",
       "      <th>8907</th>\n",
       "      <td>2022-06-21 00:00:00</td>\n",
       "      <td>118.51</td>\n",
       "    </tr>\n",
       "    <tr>\n",
       "      <th>8908</th>\n",
       "      <td>2022-06-22 00:00:00</td>\n",
       "      <td>115.54</td>\n",
       "    </tr>\n",
       "    <tr>\n",
       "      <th>8909</th>\n",
       "      <td>2022-06-23 00:00:00</td>\n",
       "      <td>114.5</td>\n",
       "    </tr>\n",
       "    <tr>\n",
       "      <th>8910</th>\n",
       "      <td>2022-06-24 00:00:00</td>\n",
       "      <td>117.36</td>\n",
       "    </tr>\n",
       "    <tr>\n",
       "      <th>8911</th>\n",
       "      <td>2022-06-27 00:00:00</td>\n",
       "      <td>119.69</td>\n",
       "    </tr>\n",
       "  </tbody>\n",
       "</table>\n",
       "<p>8912 rows × 2 columns</p>\n",
       "</div>"
      ],
      "text/plain": [
       "2                    Date  Europe Brent Spot Price FOB (Dollars per Barrel)\n",
       "0                    Date  Europe Brent Spot Price FOB (Dollars per Barrel)\n",
       "1     1987-05-20 00:00:00                                             18.63\n",
       "2     1987-05-21 00:00:00                                             18.45\n",
       "3     1987-05-22 00:00:00                                             18.55\n",
       "4     1987-05-25 00:00:00                                              18.6\n",
       "...                   ...                                               ...\n",
       "8907  2022-06-21 00:00:00                                            118.51\n",
       "8908  2022-06-22 00:00:00                                            115.54\n",
       "8909  2022-06-23 00:00:00                                             114.5\n",
       "8910  2022-06-24 00:00:00                                            117.36\n",
       "8911  2022-06-27 00:00:00                                            119.69\n",
       "\n",
       "[8912 rows x 2 columns]"
      ]
     },
     "execution_count": 150,
     "metadata": {},
     "output_type": "execute_result"
    }
   ],
   "source": [
    "brent_oil_price.reset_index(drop=True)"
   ]
  },
  {
   "cell_type": "code",
   "execution_count": 151,
   "id": "874aaac7",
   "metadata": {},
   "outputs": [],
   "source": [
    "brent_oil_price = brent_oil_price.iloc[1:]"
   ]
  },
  {
   "cell_type": "code",
   "execution_count": 152,
   "id": "af0823c2",
   "metadata": {},
   "outputs": [
    {
     "name": "stdout",
     "output_type": "stream",
     "text": [
      "2                    Date Europe Brent Spot Price FOB (Dollars per Barrel)\n",
      "3     1987-05-20 00:00:00                                            18.63\n",
      "4     1987-05-21 00:00:00                                            18.45\n",
      "5     1987-05-22 00:00:00                                            18.55\n",
      "6     1987-05-25 00:00:00                                             18.6\n",
      "7     1987-05-26 00:00:00                                            18.63\n",
      "...                   ...                                              ...\n",
      "8909  2022-06-21 00:00:00                                           118.51\n",
      "8910  2022-06-22 00:00:00                                           115.54\n",
      "8911  2022-06-23 00:00:00                                            114.5\n",
      "8912  2022-06-24 00:00:00                                           117.36\n",
      "8913  2022-06-27 00:00:00                                           119.69\n",
      "\n",
      "[8911 rows x 2 columns]\n"
     ]
    }
   ],
   "source": [
    "print(brent_oil_price)"
   ]
  },
  {
   "cell_type": "code",
   "execution_count": 153,
   "id": "fd3dff36",
   "metadata": {},
   "outputs": [
    {
     "data": {
      "text/html": [
       "<div>\n",
       "<style scoped>\n",
       "    .dataframe tbody tr th:only-of-type {\n",
       "        vertical-align: middle;\n",
       "    }\n",
       "\n",
       "    .dataframe tbody tr th {\n",
       "        vertical-align: top;\n",
       "    }\n",
       "\n",
       "    .dataframe thead th {\n",
       "        text-align: right;\n",
       "    }\n",
       "</style>\n",
       "<table border=\"1\" class=\"dataframe\">\n",
       "  <thead>\n",
       "    <tr style=\"text-align: right;\">\n",
       "      <th>2</th>\n",
       "      <th>Date</th>\n",
       "      <th>Europe Brent Spot Price FOB (Dollars per Barrel)</th>\n",
       "    </tr>\n",
       "  </thead>\n",
       "  <tbody>\n",
       "    <tr>\n",
       "      <th>0</th>\n",
       "      <td>1987-05-20 00:00:00</td>\n",
       "      <td>18.63</td>\n",
       "    </tr>\n",
       "    <tr>\n",
       "      <th>1</th>\n",
       "      <td>1987-05-21 00:00:00</td>\n",
       "      <td>18.45</td>\n",
       "    </tr>\n",
       "    <tr>\n",
       "      <th>2</th>\n",
       "      <td>1987-05-22 00:00:00</td>\n",
       "      <td>18.55</td>\n",
       "    </tr>\n",
       "    <tr>\n",
       "      <th>3</th>\n",
       "      <td>1987-05-25 00:00:00</td>\n",
       "      <td>18.6</td>\n",
       "    </tr>\n",
       "    <tr>\n",
       "      <th>4</th>\n",
       "      <td>1987-05-26 00:00:00</td>\n",
       "      <td>18.63</td>\n",
       "    </tr>\n",
       "    <tr>\n",
       "      <th>...</th>\n",
       "      <td>...</td>\n",
       "      <td>...</td>\n",
       "    </tr>\n",
       "    <tr>\n",
       "      <th>8906</th>\n",
       "      <td>2022-06-21 00:00:00</td>\n",
       "      <td>118.51</td>\n",
       "    </tr>\n",
       "    <tr>\n",
       "      <th>8907</th>\n",
       "      <td>2022-06-22 00:00:00</td>\n",
       "      <td>115.54</td>\n",
       "    </tr>\n",
       "    <tr>\n",
       "      <th>8908</th>\n",
       "      <td>2022-06-23 00:00:00</td>\n",
       "      <td>114.5</td>\n",
       "    </tr>\n",
       "    <tr>\n",
       "      <th>8909</th>\n",
       "      <td>2022-06-24 00:00:00</td>\n",
       "      <td>117.36</td>\n",
       "    </tr>\n",
       "    <tr>\n",
       "      <th>8910</th>\n",
       "      <td>2022-06-27 00:00:00</td>\n",
       "      <td>119.69</td>\n",
       "    </tr>\n",
       "  </tbody>\n",
       "</table>\n",
       "<p>8911 rows × 2 columns</p>\n",
       "</div>"
      ],
      "text/plain": [
       "2                    Date Europe Brent Spot Price FOB (Dollars per Barrel)\n",
       "0     1987-05-20 00:00:00                                            18.63\n",
       "1     1987-05-21 00:00:00                                            18.45\n",
       "2     1987-05-22 00:00:00                                            18.55\n",
       "3     1987-05-25 00:00:00                                             18.6\n",
       "4     1987-05-26 00:00:00                                            18.63\n",
       "...                   ...                                              ...\n",
       "8906  2022-06-21 00:00:00                                           118.51\n",
       "8907  2022-06-22 00:00:00                                           115.54\n",
       "8908  2022-06-23 00:00:00                                            114.5\n",
       "8909  2022-06-24 00:00:00                                           117.36\n",
       "8910  2022-06-27 00:00:00                                           119.69\n",
       "\n",
       "[8911 rows x 2 columns]"
      ]
     },
     "execution_count": 153,
     "metadata": {},
     "output_type": "execute_result"
    }
   ],
   "source": [
    "brent_oil_price.reset_index(drop=True)"
   ]
  },
  {
   "cell_type": "code",
   "execution_count": 154,
   "id": "89820d8a",
   "metadata": {},
   "outputs": [],
   "source": [
    "brent_oil_price.set_index('Date', inplace=True)"
   ]
  },
  {
   "cell_type": "code",
   "execution_count": 155,
   "id": "3e03c6b0",
   "metadata": {},
   "outputs": [
    {
     "ename": "DataError",
     "evalue": "No numeric types to aggregate",
     "output_type": "error",
     "traceback": [
      "\u001b[0;31m---------------------------------------------------------------------------\u001b[0m",
      "\u001b[0;31mDataError\u001b[0m                                 Traceback (most recent call last)",
      "\u001b[0;32m<ipython-input-155-124cf3382513>\u001b[0m in \u001b[0;36m<module>\u001b[0;34m\u001b[0m\n\u001b[0;32m----> 1\u001b[0;31m \u001b[0myearly_summary\u001b[0m \u001b[0;34m=\u001b[0m \u001b[0mbrent_oil_price\u001b[0m\u001b[0;34m.\u001b[0m\u001b[0mgroupby\u001b[0m\u001b[0;34m(\u001b[0m\u001b[0mbrent_oil_price\u001b[0m\u001b[0;34m.\u001b[0m\u001b[0mindex\u001b[0m\u001b[0;34m.\u001b[0m\u001b[0myear\u001b[0m\u001b[0;34m)\u001b[0m\u001b[0;34m[\u001b[0m\u001b[0;34m'Europe Brent Spot Price FOB (Dollars per Barrel)'\u001b[0m\u001b[0;34m]\u001b[0m\u001b[0;34m.\u001b[0m\u001b[0mmean\u001b[0m\u001b[0;34m(\u001b[0m\u001b[0;34m)\u001b[0m\u001b[0;34m\u001b[0m\u001b[0;34m\u001b[0m\u001b[0m\n\u001b[0m",
      "\u001b[0;32m~/opt/anaconda3/lib/python3.8/site-packages/pandas/core/groupby/groupby.py\u001b[0m in \u001b[0;36mmean\u001b[0;34m(self, numeric_only)\u001b[0m\n\u001b[1;32m   1494\u001b[0m         \u001b[0mName\u001b[0m\u001b[0;34m:\u001b[0m \u001b[0mB\u001b[0m\u001b[0;34m,\u001b[0m \u001b[0mdtype\u001b[0m\u001b[0;34m:\u001b[0m \u001b[0mfloat64\u001b[0m\u001b[0;34m\u001b[0m\u001b[0;34m\u001b[0m\u001b[0m\n\u001b[1;32m   1495\u001b[0m         \"\"\"\n\u001b[0;32m-> 1496\u001b[0;31m         return self._cython_agg_general(\n\u001b[0m\u001b[1;32m   1497\u001b[0m             \u001b[0;34m\"mean\"\u001b[0m\u001b[0;34m,\u001b[0m\u001b[0;34m\u001b[0m\u001b[0;34m\u001b[0m\u001b[0m\n\u001b[1;32m   1498\u001b[0m             \u001b[0malt\u001b[0m\u001b[0;34m=\u001b[0m\u001b[0;32mlambda\u001b[0m \u001b[0mx\u001b[0m\u001b[0;34m,\u001b[0m \u001b[0maxis\u001b[0m\u001b[0;34m:\u001b[0m \u001b[0mSeries\u001b[0m\u001b[0;34m(\u001b[0m\u001b[0mx\u001b[0m\u001b[0;34m)\u001b[0m\u001b[0;34m.\u001b[0m\u001b[0mmean\u001b[0m\u001b[0;34m(\u001b[0m\u001b[0mnumeric_only\u001b[0m\u001b[0;34m=\u001b[0m\u001b[0mnumeric_only\u001b[0m\u001b[0;34m)\u001b[0m\u001b[0;34m,\u001b[0m\u001b[0;34m\u001b[0m\u001b[0;34m\u001b[0m\u001b[0m\n",
      "\u001b[0;32m~/opt/anaconda3/lib/python3.8/site-packages/pandas/core/groupby/groupby.py\u001b[0m in \u001b[0;36m_cython_agg_general\u001b[0;34m(self, how, alt, numeric_only, min_count)\u001b[0m\n\u001b[1;32m   1079\u001b[0m \u001b[0;34m\u001b[0m\u001b[0m\n\u001b[1;32m   1080\u001b[0m         \u001b[0;32mif\u001b[0m \u001b[0;32mnot\u001b[0m \u001b[0moutput\u001b[0m\u001b[0;34m:\u001b[0m\u001b[0;34m\u001b[0m\u001b[0;34m\u001b[0m\u001b[0m\n\u001b[0;32m-> 1081\u001b[0;31m             \u001b[0;32mraise\u001b[0m \u001b[0mDataError\u001b[0m\u001b[0;34m(\u001b[0m\u001b[0;34m\"No numeric types to aggregate\"\u001b[0m\u001b[0;34m)\u001b[0m\u001b[0;34m\u001b[0m\u001b[0;34m\u001b[0m\u001b[0m\n\u001b[0m\u001b[1;32m   1082\u001b[0m \u001b[0;34m\u001b[0m\u001b[0m\n\u001b[1;32m   1083\u001b[0m         \u001b[0;32mreturn\u001b[0m \u001b[0mself\u001b[0m\u001b[0;34m.\u001b[0m\u001b[0m_wrap_aggregated_output\u001b[0m\u001b[0;34m(\u001b[0m\u001b[0moutput\u001b[0m\u001b[0;34m,\u001b[0m \u001b[0mindex\u001b[0m\u001b[0;34m=\u001b[0m\u001b[0mself\u001b[0m\u001b[0;34m.\u001b[0m\u001b[0mgrouper\u001b[0m\u001b[0;34m.\u001b[0m\u001b[0mresult_index\u001b[0m\u001b[0;34m)\u001b[0m\u001b[0;34m\u001b[0m\u001b[0;34m\u001b[0m\u001b[0m\n",
      "\u001b[0;31mDataError\u001b[0m: No numeric types to aggregate"
     ]
    }
   ],
   "source": [
    "yearly_summary = brent_oil_price.groupby(brent_oil_price.index.year)['Europe Brent Spot Price FOB (Dollars per Barrel)'].mean()"
   ]
  },
  {
   "cell_type": "code",
   "execution_count": 156,
   "id": "38ebe527",
   "metadata": {},
   "outputs": [],
   "source": [
    "brent_oil_price['Europe Brent Spot Price FOB (Dollars per Barrel)'] = pd.to_numeric(brent_oil_price['Europe Brent Spot Price FOB (Dollars per Barrel)'])"
   ]
  },
  {
   "cell_type": "code",
   "execution_count": 157,
   "id": "eabfa144",
   "metadata": {},
   "outputs": [],
   "source": [
    "yearly_summary = brent_oil_price.groupby(brent_oil_price.index.year)['Europe Brent Spot Price FOB (Dollars per Barrel)'].mean()"
   ]
  },
  {
   "cell_type": "code",
   "execution_count": 158,
   "id": "a8c2e1bb",
   "metadata": {},
   "outputs": [],
   "source": [
    "brent_yearly_summary = yearly_summary"
   ]
  },
  {
   "cell_type": "code",
   "execution_count": 159,
   "id": "5dccebe0",
   "metadata": {},
   "outputs": [
    {
     "name": "stdout",
     "output_type": "stream",
     "text": [
      "Date\n",
      "1987     18.525813\n",
      "1988     14.905412\n",
      "1989     18.228228\n",
      "1990     23.761445\n",
      "1991     20.041128\n",
      "1992     19.319728\n",
      "1993     17.013413\n",
      "1994     15.856389\n",
      "1995     17.015850\n",
      "1996     20.639803\n",
      "1997     19.108508\n",
      "1998     12.758103\n",
      "1999     17.901566\n",
      "2000     28.660672\n",
      "2001     24.455720\n",
      "2002     24.993255\n",
      "2003     28.850814\n",
      "2004     38.259693\n",
      "2005     54.574553\n",
      "2006     65.161765\n",
      "2007     72.441160\n",
      "2008     96.944348\n",
      "2009     61.738770\n",
      "2010     79.609444\n",
      "2011    111.264274\n",
      "2012    111.570683\n",
      "2013    108.555000\n",
      "2014     98.969606\n",
      "2015     52.316549\n",
      "2016     43.638000\n",
      "2017     54.124805\n",
      "2018     71.335000\n",
      "2019     64.300623\n",
      "2020     41.957255\n",
      "2021     70.855336\n",
      "2022    106.860574\n",
      "Name: Europe Brent Spot Price FOB (Dollars per Barrel), dtype: float64\n"
     ]
    }
   ],
   "source": [
    "print(brent_yearly_summary)"
   ]
  },
  {
   "cell_type": "code",
   "execution_count": 160,
   "id": "ec152328",
   "metadata": {},
   "outputs": [],
   "source": [
    "crude_oil_price = pd.read_csv(\"crude_oil_prices.csv\")"
   ]
  },
  {
   "cell_type": "code",
   "execution_count": 161,
   "id": "adebb64e",
   "metadata": {},
   "outputs": [
    {
     "name": "stdout",
     "output_type": "stream",
     "text": [
      "    Entity      Code  Year  Oil price - Crude prices since 1861 (current US$)\n",
      "0    World  OWID_WRL  1861                                           3.082002\n",
      "1    World  OWID_WRL  1862                                           6.604290\n",
      "2    World  OWID_WRL  1863                                          19.812870\n",
      "3    World  OWID_WRL  1864                                          50.695790\n",
      "4    World  OWID_WRL  1865                                          41.449783\n",
      "..     ...       ...   ...                                                ...\n",
      "157  World  OWID_WRL  2018                                         448.526000\n",
      "158  World  OWID_WRL  2019                                         403.871640\n",
      "159  World  OWID_WRL  2020                                         263.154820\n",
      "160  World  OWID_WRL  2021                                         446.021640\n",
      "161  World  OWID_WRL  2022                                         637.282530\n",
      "\n",
      "[162 rows x 4 columns]\n"
     ]
    }
   ],
   "source": [
    "print(crude_oil_price)"
   ]
  },
  {
   "cell_type": "code",
   "execution_count": 162,
   "id": "d34eee5a",
   "metadata": {},
   "outputs": [],
   "source": [
    "crude_oil_price = crude_oil_price.iloc[:, 2:]"
   ]
  },
  {
   "cell_type": "code",
   "execution_count": 163,
   "id": "20810193",
   "metadata": {},
   "outputs": [
    {
     "name": "stdout",
     "output_type": "stream",
     "text": [
      "     Year  Oil price - Crude prices since 1861 (current US$)\n",
      "0    1861                                           3.082002\n",
      "1    1862                                           6.604290\n",
      "2    1863                                          19.812870\n",
      "3    1864                                          50.695790\n",
      "4    1865                                          41.449783\n",
      "..    ...                                                ...\n",
      "157  2018                                         448.526000\n",
      "158  2019                                         403.871640\n",
      "159  2020                                         263.154820\n",
      "160  2021                                         446.021640\n",
      "161  2022                                         637.282530\n",
      "\n",
      "[162 rows x 2 columns]\n"
     ]
    }
   ],
   "source": [
    "print(crude_oil_price)"
   ]
  },
  {
   "cell_type": "code",
   "execution_count": 164,
   "id": "9ebfa260",
   "metadata": {},
   "outputs": [],
   "source": [
    "crude_yearly_summary = crude_oil_price.tail(36)"
   ]
  },
  {
   "cell_type": "code",
   "execution_count": 165,
   "id": "353602be",
   "metadata": {},
   "outputs": [
    {
     "name": "stdout",
     "output_type": "stream",
     "text": [
      "     Year  Oil price - Crude prices since 1861 (current US$)\n",
      "126  1987                                         115.952710\n",
      "127  1988                                          93.867980\n",
      "128  1989                                         114.638600\n",
      "129  1990                                         149.230670\n",
      "130  1991                                         125.801750\n",
      "131  1992                                         121.524200\n",
      "132  1993                                         106.748184\n",
      "133  1994                                          99.489710\n",
      "134  1995                                         107.031510\n",
      "135  1996                                         130.000660\n",
      "136  1997                                         120.088560\n",
      "137  1998                                          79.978966\n",
      "138  1999                                         113.028190\n",
      "139  2000                                         179.230680\n",
      "140  2001                                         153.747200\n",
      "141  2002                                         157.391280\n",
      "142  2003                                         181.339360\n",
      "143  2004                                         240.679200\n",
      "144  2005                                         342.926730\n",
      "145  2006                                         409.743130\n",
      "146  2007                                         455.312800\n",
      "147  2008                                         611.720640\n",
      "148  2009                                         387.899930\n",
      "149  2010                                         500.011020\n",
      "150  2011                                         699.775450\n",
      "151  2012                                         702.380070\n",
      "152  2013                                         683.440300\n",
      "153  2014                                         622.350600\n",
      "154  2015                                         329.502260\n",
      "155  2016                                         275.079160\n",
      "156  2017                                         340.859620\n",
      "157  2018                                         448.526000\n",
      "158  2019                                         403.871640\n",
      "159  2020                                         263.154820\n",
      "160  2021                                         446.021640\n",
      "161  2022                                         637.282530\n"
     ]
    }
   ],
   "source": [
    "print(crude_yearly_summary)"
   ]
  },
  {
   "cell_type": "code",
   "execution_count": 166,
   "id": "f3666eb1",
   "metadata": {},
   "outputs": [
    {
     "data": {
      "text/html": [
       "<div>\n",
       "<style scoped>\n",
       "    .dataframe tbody tr th:only-of-type {\n",
       "        vertical-align: middle;\n",
       "    }\n",
       "\n",
       "    .dataframe tbody tr th {\n",
       "        vertical-align: top;\n",
       "    }\n",
       "\n",
       "    .dataframe thead th {\n",
       "        text-align: right;\n",
       "    }\n",
       "</style>\n",
       "<table border=\"1\" class=\"dataframe\">\n",
       "  <thead>\n",
       "    <tr style=\"text-align: right;\">\n",
       "      <th></th>\n",
       "      <th>Year</th>\n",
       "      <th>Oil price - Crude prices since 1861 (current US$)</th>\n",
       "    </tr>\n",
       "  </thead>\n",
       "  <tbody>\n",
       "    <tr>\n",
       "      <th>0</th>\n",
       "      <td>1987</td>\n",
       "      <td>115.952710</td>\n",
       "    </tr>\n",
       "    <tr>\n",
       "      <th>1</th>\n",
       "      <td>1988</td>\n",
       "      <td>93.867980</td>\n",
       "    </tr>\n",
       "    <tr>\n",
       "      <th>2</th>\n",
       "      <td>1989</td>\n",
       "      <td>114.638600</td>\n",
       "    </tr>\n",
       "    <tr>\n",
       "      <th>3</th>\n",
       "      <td>1990</td>\n",
       "      <td>149.230670</td>\n",
       "    </tr>\n",
       "    <tr>\n",
       "      <th>4</th>\n",
       "      <td>1991</td>\n",
       "      <td>125.801750</td>\n",
       "    </tr>\n",
       "    <tr>\n",
       "      <th>5</th>\n",
       "      <td>1992</td>\n",
       "      <td>121.524200</td>\n",
       "    </tr>\n",
       "    <tr>\n",
       "      <th>6</th>\n",
       "      <td>1993</td>\n",
       "      <td>106.748184</td>\n",
       "    </tr>\n",
       "    <tr>\n",
       "      <th>7</th>\n",
       "      <td>1994</td>\n",
       "      <td>99.489710</td>\n",
       "    </tr>\n",
       "    <tr>\n",
       "      <th>8</th>\n",
       "      <td>1995</td>\n",
       "      <td>107.031510</td>\n",
       "    </tr>\n",
       "    <tr>\n",
       "      <th>9</th>\n",
       "      <td>1996</td>\n",
       "      <td>130.000660</td>\n",
       "    </tr>\n",
       "    <tr>\n",
       "      <th>10</th>\n",
       "      <td>1997</td>\n",
       "      <td>120.088560</td>\n",
       "    </tr>\n",
       "    <tr>\n",
       "      <th>11</th>\n",
       "      <td>1998</td>\n",
       "      <td>79.978966</td>\n",
       "    </tr>\n",
       "    <tr>\n",
       "      <th>12</th>\n",
       "      <td>1999</td>\n",
       "      <td>113.028190</td>\n",
       "    </tr>\n",
       "    <tr>\n",
       "      <th>13</th>\n",
       "      <td>2000</td>\n",
       "      <td>179.230680</td>\n",
       "    </tr>\n",
       "    <tr>\n",
       "      <th>14</th>\n",
       "      <td>2001</td>\n",
       "      <td>153.747200</td>\n",
       "    </tr>\n",
       "    <tr>\n",
       "      <th>15</th>\n",
       "      <td>2002</td>\n",
       "      <td>157.391280</td>\n",
       "    </tr>\n",
       "    <tr>\n",
       "      <th>16</th>\n",
       "      <td>2003</td>\n",
       "      <td>181.339360</td>\n",
       "    </tr>\n",
       "    <tr>\n",
       "      <th>17</th>\n",
       "      <td>2004</td>\n",
       "      <td>240.679200</td>\n",
       "    </tr>\n",
       "    <tr>\n",
       "      <th>18</th>\n",
       "      <td>2005</td>\n",
       "      <td>342.926730</td>\n",
       "    </tr>\n",
       "    <tr>\n",
       "      <th>19</th>\n",
       "      <td>2006</td>\n",
       "      <td>409.743130</td>\n",
       "    </tr>\n",
       "    <tr>\n",
       "      <th>20</th>\n",
       "      <td>2007</td>\n",
       "      <td>455.312800</td>\n",
       "    </tr>\n",
       "    <tr>\n",
       "      <th>21</th>\n",
       "      <td>2008</td>\n",
       "      <td>611.720640</td>\n",
       "    </tr>\n",
       "    <tr>\n",
       "      <th>22</th>\n",
       "      <td>2009</td>\n",
       "      <td>387.899930</td>\n",
       "    </tr>\n",
       "    <tr>\n",
       "      <th>23</th>\n",
       "      <td>2010</td>\n",
       "      <td>500.011020</td>\n",
       "    </tr>\n",
       "    <tr>\n",
       "      <th>24</th>\n",
       "      <td>2011</td>\n",
       "      <td>699.775450</td>\n",
       "    </tr>\n",
       "    <tr>\n",
       "      <th>25</th>\n",
       "      <td>2012</td>\n",
       "      <td>702.380070</td>\n",
       "    </tr>\n",
       "    <tr>\n",
       "      <th>26</th>\n",
       "      <td>2013</td>\n",
       "      <td>683.440300</td>\n",
       "    </tr>\n",
       "    <tr>\n",
       "      <th>27</th>\n",
       "      <td>2014</td>\n",
       "      <td>622.350600</td>\n",
       "    </tr>\n",
       "    <tr>\n",
       "      <th>28</th>\n",
       "      <td>2015</td>\n",
       "      <td>329.502260</td>\n",
       "    </tr>\n",
       "    <tr>\n",
       "      <th>29</th>\n",
       "      <td>2016</td>\n",
       "      <td>275.079160</td>\n",
       "    </tr>\n",
       "    <tr>\n",
       "      <th>30</th>\n",
       "      <td>2017</td>\n",
       "      <td>340.859620</td>\n",
       "    </tr>\n",
       "    <tr>\n",
       "      <th>31</th>\n",
       "      <td>2018</td>\n",
       "      <td>448.526000</td>\n",
       "    </tr>\n",
       "    <tr>\n",
       "      <th>32</th>\n",
       "      <td>2019</td>\n",
       "      <td>403.871640</td>\n",
       "    </tr>\n",
       "    <tr>\n",
       "      <th>33</th>\n",
       "      <td>2020</td>\n",
       "      <td>263.154820</td>\n",
       "    </tr>\n",
       "    <tr>\n",
       "      <th>34</th>\n",
       "      <td>2021</td>\n",
       "      <td>446.021640</td>\n",
       "    </tr>\n",
       "    <tr>\n",
       "      <th>35</th>\n",
       "      <td>2022</td>\n",
       "      <td>637.282530</td>\n",
       "    </tr>\n",
       "  </tbody>\n",
       "</table>\n",
       "</div>"
      ],
      "text/plain": [
       "    Year  Oil price - Crude prices since 1861 (current US$)\n",
       "0   1987                                         115.952710\n",
       "1   1988                                          93.867980\n",
       "2   1989                                         114.638600\n",
       "3   1990                                         149.230670\n",
       "4   1991                                         125.801750\n",
       "5   1992                                         121.524200\n",
       "6   1993                                         106.748184\n",
       "7   1994                                          99.489710\n",
       "8   1995                                         107.031510\n",
       "9   1996                                         130.000660\n",
       "10  1997                                         120.088560\n",
       "11  1998                                          79.978966\n",
       "12  1999                                         113.028190\n",
       "13  2000                                         179.230680\n",
       "14  2001                                         153.747200\n",
       "15  2002                                         157.391280\n",
       "16  2003                                         181.339360\n",
       "17  2004                                         240.679200\n",
       "18  2005                                         342.926730\n",
       "19  2006                                         409.743130\n",
       "20  2007                                         455.312800\n",
       "21  2008                                         611.720640\n",
       "22  2009                                         387.899930\n",
       "23  2010                                         500.011020\n",
       "24  2011                                         699.775450\n",
       "25  2012                                         702.380070\n",
       "26  2013                                         683.440300\n",
       "27  2014                                         622.350600\n",
       "28  2015                                         329.502260\n",
       "29  2016                                         275.079160\n",
       "30  2017                                         340.859620\n",
       "31  2018                                         448.526000\n",
       "32  2019                                         403.871640\n",
       "33  2020                                         263.154820\n",
       "34  2021                                         446.021640\n",
       "35  2022                                         637.282530"
      ]
     },
     "execution_count": 166,
     "metadata": {},
     "output_type": "execute_result"
    }
   ],
   "source": [
    "crude_yearly_summary.reset_index(drop=True)"
   ]
  },
  {
   "cell_type": "code",
   "execution_count": 167,
   "id": "b8e028fe",
   "metadata": {},
   "outputs": [],
   "source": [
    "merged_yearly_summary = pd.merge(brent_yearly_summary, crude_yearly_summary, left_on='Date', right_on='Year', how='inner')"
   ]
  },
  {
   "cell_type": "code",
   "execution_count": 168,
   "id": "bdf63a6d",
   "metadata": {},
   "outputs": [
    {
     "name": "stdout",
     "output_type": "stream",
     "text": [
      "    Europe Brent Spot Price FOB (Dollars per Barrel)  Year  \\\n",
      "0                                          18.525813  1987   \n",
      "1                                          14.905412  1988   \n",
      "2                                          18.228228  1989   \n",
      "3                                          23.761445  1990   \n",
      "4                                          20.041128  1991   \n",
      "5                                          19.319728  1992   \n",
      "6                                          17.013413  1993   \n",
      "7                                          15.856389  1994   \n",
      "8                                          17.015850  1995   \n",
      "9                                          20.639803  1996   \n",
      "10                                         19.108508  1997   \n",
      "11                                         12.758103  1998   \n",
      "12                                         17.901566  1999   \n",
      "13                                         28.660672  2000   \n",
      "14                                         24.455720  2001   \n",
      "15                                         24.993255  2002   \n",
      "16                                         28.850814  2003   \n",
      "17                                         38.259693  2004   \n",
      "18                                         54.574553  2005   \n",
      "19                                         65.161765  2006   \n",
      "20                                         72.441160  2007   \n",
      "21                                         96.944348  2008   \n",
      "22                                         61.738770  2009   \n",
      "23                                         79.609444  2010   \n",
      "24                                        111.264274  2011   \n",
      "25                                        111.570683  2012   \n",
      "26                                        108.555000  2013   \n",
      "27                                         98.969606  2014   \n",
      "28                                         52.316549  2015   \n",
      "29                                         43.638000  2016   \n",
      "30                                         54.124805  2017   \n",
      "31                                         71.335000  2018   \n",
      "32                                         64.300623  2019   \n",
      "33                                         41.957255  2020   \n",
      "34                                         70.855336  2021   \n",
      "35                                        106.860574  2022   \n",
      "\n",
      "    Oil price - Crude prices since 1861 (current US$)  \n",
      "0                                          115.952710  \n",
      "1                                           93.867980  \n",
      "2                                          114.638600  \n",
      "3                                          149.230670  \n",
      "4                                          125.801750  \n",
      "5                                          121.524200  \n",
      "6                                          106.748184  \n",
      "7                                           99.489710  \n",
      "8                                          107.031510  \n",
      "9                                          130.000660  \n",
      "10                                         120.088560  \n",
      "11                                          79.978966  \n",
      "12                                         113.028190  \n",
      "13                                         179.230680  \n",
      "14                                         153.747200  \n",
      "15                                         157.391280  \n",
      "16                                         181.339360  \n",
      "17                                         240.679200  \n",
      "18                                         342.926730  \n",
      "19                                         409.743130  \n",
      "20                                         455.312800  \n",
      "21                                         611.720640  \n",
      "22                                         387.899930  \n",
      "23                                         500.011020  \n",
      "24                                         699.775450  \n",
      "25                                         702.380070  \n",
      "26                                         683.440300  \n",
      "27                                         622.350600  \n",
      "28                                         329.502260  \n",
      "29                                         275.079160  \n",
      "30                                         340.859620  \n",
      "31                                         448.526000  \n",
      "32                                         403.871640  \n",
      "33                                         263.154820  \n",
      "34                                         446.021640  \n",
      "35                                         637.282530  \n"
     ]
    }
   ],
   "source": [
    "print(merged_yearly_summary)"
   ]
  },
  {
   "cell_type": "code",
   "execution_count": 169,
   "id": "aa8f01e6",
   "metadata": {},
   "outputs": [],
   "source": [
    " merged_yearly_summary.columns = [\"Brent_Price_USD\", \"Year\", \"Crude_Price_USD\"]"
   ]
  },
  {
   "cell_type": "code",
   "execution_count": 170,
   "id": "ab9d03ad",
   "metadata": {},
   "outputs": [
    {
     "name": "stdout",
     "output_type": "stream",
     "text": [
      "    Brent_Price_USD  Year  Crude_Price_USD\n",
      "0         18.525813  1987       115.952710\n",
      "1         14.905412  1988        93.867980\n",
      "2         18.228228  1989       114.638600\n",
      "3         23.761445  1990       149.230670\n",
      "4         20.041128  1991       125.801750\n",
      "5         19.319728  1992       121.524200\n",
      "6         17.013413  1993       106.748184\n",
      "7         15.856389  1994        99.489710\n",
      "8         17.015850  1995       107.031510\n",
      "9         20.639803  1996       130.000660\n",
      "10        19.108508  1997       120.088560\n",
      "11        12.758103  1998        79.978966\n",
      "12        17.901566  1999       113.028190\n",
      "13        28.660672  2000       179.230680\n",
      "14        24.455720  2001       153.747200\n",
      "15        24.993255  2002       157.391280\n",
      "16        28.850814  2003       181.339360\n",
      "17        38.259693  2004       240.679200\n",
      "18        54.574553  2005       342.926730\n",
      "19        65.161765  2006       409.743130\n",
      "20        72.441160  2007       455.312800\n",
      "21        96.944348  2008       611.720640\n",
      "22        61.738770  2009       387.899930\n",
      "23        79.609444  2010       500.011020\n",
      "24       111.264274  2011       699.775450\n",
      "25       111.570683  2012       702.380070\n",
      "26       108.555000  2013       683.440300\n",
      "27        98.969606  2014       622.350600\n",
      "28        52.316549  2015       329.502260\n",
      "29        43.638000  2016       275.079160\n",
      "30        54.124805  2017       340.859620\n",
      "31        71.335000  2018       448.526000\n",
      "32        64.300623  2019       403.871640\n",
      "33        41.957255  2020       263.154820\n",
      "34        70.855336  2021       446.021640\n",
      "35       106.860574  2022       637.282530\n"
     ]
    }
   ],
   "source": [
    "print(merged_yearly_summary)"
   ]
  },
  {
   "cell_type": "code",
   "execution_count": 171,
   "id": "cfb8e31f",
   "metadata": {},
   "outputs": [],
   "source": [
    "merged_yearly_summary = merged_yearly_summary[[\"Year\", \"Brent_Price_USD\", \"Crude_Price_USD\"]]"
   ]
  },
  {
   "cell_type": "code",
   "execution_count": 172,
   "id": "dde4698f",
   "metadata": {},
   "outputs": [
    {
     "name": "stdout",
     "output_type": "stream",
     "text": [
      "    Year  Brent_Price_USD  Crude_Price_USD\n",
      "0   1987        18.525813       115.952710\n",
      "1   1988        14.905412        93.867980\n",
      "2   1989        18.228228       114.638600\n",
      "3   1990        23.761445       149.230670\n",
      "4   1991        20.041128       125.801750\n",
      "5   1992        19.319728       121.524200\n",
      "6   1993        17.013413       106.748184\n",
      "7   1994        15.856389        99.489710\n",
      "8   1995        17.015850       107.031510\n",
      "9   1996        20.639803       130.000660\n",
      "10  1997        19.108508       120.088560\n",
      "11  1998        12.758103        79.978966\n",
      "12  1999        17.901566       113.028190\n",
      "13  2000        28.660672       179.230680\n",
      "14  2001        24.455720       153.747200\n",
      "15  2002        24.993255       157.391280\n",
      "16  2003        28.850814       181.339360\n",
      "17  2004        38.259693       240.679200\n",
      "18  2005        54.574553       342.926730\n",
      "19  2006        65.161765       409.743130\n",
      "20  2007        72.441160       455.312800\n",
      "21  2008        96.944348       611.720640\n",
      "22  2009        61.738770       387.899930\n",
      "23  2010        79.609444       500.011020\n",
      "24  2011       111.264274       699.775450\n",
      "25  2012       111.570683       702.380070\n",
      "26  2013       108.555000       683.440300\n",
      "27  2014        98.969606       622.350600\n",
      "28  2015        52.316549       329.502260\n",
      "29  2016        43.638000       275.079160\n",
      "30  2017        54.124805       340.859620\n",
      "31  2018        71.335000       448.526000\n",
      "32  2019        64.300623       403.871640\n",
      "33  2020        41.957255       263.154820\n",
      "34  2021        70.855336       446.021640\n",
      "35  2022       106.860574       637.282530\n"
     ]
    }
   ],
   "source": [
    "print(merged_yearly_summary)"
   ]
  },
  {
   "cell_type": "code",
   "execution_count": 173,
   "id": "b485d4bb",
   "metadata": {},
   "outputs": [
    {
     "data": {
      "text/html": [
       "<div>\n",
       "<style scoped>\n",
       "    .dataframe tbody tr th:only-of-type {\n",
       "        vertical-align: middle;\n",
       "    }\n",
       "\n",
       "    .dataframe tbody tr th {\n",
       "        vertical-align: top;\n",
       "    }\n",
       "\n",
       "    .dataframe thead th {\n",
       "        text-align: right;\n",
       "    }\n",
       "</style>\n",
       "<table border=\"1\" class=\"dataframe\">\n",
       "  <thead>\n",
       "    <tr style=\"text-align: right;\">\n",
       "      <th></th>\n",
       "      <th>Year</th>\n",
       "      <th>Brent_Price_USD</th>\n",
       "      <th>Crude_Price_USD</th>\n",
       "    </tr>\n",
       "  </thead>\n",
       "  <tbody>\n",
       "    <tr>\n",
       "      <th>count</th>\n",
       "      <td>36.000000</td>\n",
       "      <td>36.000000</td>\n",
       "      <td>36.000000</td>\n",
       "    </tr>\n",
       "    <tr>\n",
       "      <th>mean</th>\n",
       "      <td>2004.500000</td>\n",
       "      <td>48.514258</td>\n",
       "      <td>304.156326</td>\n",
       "    </tr>\n",
       "    <tr>\n",
       "      <th>std</th>\n",
       "      <td>10.535654</td>\n",
       "      <td>32.676880</td>\n",
       "      <td>203.988134</td>\n",
       "    </tr>\n",
       "    <tr>\n",
       "      <th>min</th>\n",
       "      <td>1987.000000</td>\n",
       "      <td>12.758103</td>\n",
       "      <td>79.978966</td>\n",
       "    </tr>\n",
       "    <tr>\n",
       "      <th>25%</th>\n",
       "      <td>1995.750000</td>\n",
       "      <td>19.266923</td>\n",
       "      <td>121.165290</td>\n",
       "    </tr>\n",
       "    <tr>\n",
       "      <th>50%</th>\n",
       "      <td>2004.500000</td>\n",
       "      <td>40.108474</td>\n",
       "      <td>251.917010</td>\n",
       "    </tr>\n",
       "    <tr>\n",
       "      <th>75%</th>\n",
       "      <td>2013.250000</td>\n",
       "      <td>70.975252</td>\n",
       "      <td>446.647730</td>\n",
       "    </tr>\n",
       "    <tr>\n",
       "      <th>max</th>\n",
       "      <td>2022.000000</td>\n",
       "      <td>111.570683</td>\n",
       "      <td>702.380070</td>\n",
       "    </tr>\n",
       "  </tbody>\n",
       "</table>\n",
       "</div>"
      ],
      "text/plain": [
       "              Year  Brent_Price_USD  Crude_Price_USD\n",
       "count    36.000000        36.000000        36.000000\n",
       "mean   2004.500000        48.514258       304.156326\n",
       "std      10.535654        32.676880       203.988134\n",
       "min    1987.000000        12.758103        79.978966\n",
       "25%    1995.750000        19.266923       121.165290\n",
       "50%    2004.500000        40.108474       251.917010\n",
       "75%    2013.250000        70.975252       446.647730\n",
       "max    2022.000000       111.570683       702.380070"
      ]
     },
     "execution_count": 173,
     "metadata": {},
     "output_type": "execute_result"
    }
   ],
   "source": [
    "merged_yearly_summary.describe()"
   ]
  },
  {
   "cell_type": "code",
   "execution_count": 174,
   "id": "52ac9b61",
   "metadata": {},
   "outputs": [],
   "source": [
    "def calculate_price_percentage(merged_yearly_summary, year, Brent_Price_USD, Crude_Price_USD):\n",
    "    year_data = merged_yearly_summary[merged_yearly_summary['Year'] == year]\n",
    "    if year_data.empty:\n",
    "        return None\n",
    "    brent_oil_price = year_data[Brent_Price_USD].values[0]\n",
    "    crude_oil_price = year_data[Crude_Price_USD].values[0]\n",
    "    if crude_oil_price == 0:\n",
    "        return float('inf')\n",
    "    percentage = (brent_oil_price / crude_oil_price) * 100\n",
    "    return percentage"
   ]
  },
  {
   "cell_type": "code",
   "execution_count": 175,
   "id": "34b30838",
   "metadata": {},
   "outputs": [],
   "source": [
    "year = 2010\n",
    "Brent_Price_USD = 'Brent_Price_USD'\n",
    "Crude_Price_USD = 'Crude_Price_USD'"
   ]
  },
  {
   "cell_type": "code",
   "execution_count": 176,
   "id": "1d399e04",
   "metadata": {},
   "outputs": [
    {
     "name": "stdout",
     "output_type": "stream",
     "text": [
      "The price of brent oil as a percentage ofcrude oil in 2010: 15.92%\n"
     ]
    }
   ],
   "source": [
    "percentage = calculate_price_percentage(merged_yearly_summary, year, Brent_Price_USD, Crude_Price_USD)\n",
    "\n",
    "if percentage is not None:\n",
    "    print(f\"The price of brent oil as a percentage ofcrude oil in {year}: {percentage:.2f}%\")\n",
    "else:\n",
    "    print(f\"Data for the year {year} not found.\")"
   ]
  },
  {
   "cell_type": "code",
   "execution_count": 177,
   "id": "1dee49df",
   "metadata": {},
   "outputs": [],
   "source": [
    "percentage = calculate_price_percentage(merged_yearly_summary, 2005, Brent_Price_USD, Crude_Price_USD)"
   ]
  },
  {
   "cell_type": "code",
   "execution_count": 178,
   "id": "5808132d",
   "metadata": {},
   "outputs": [
    {
     "name": "stdout",
     "output_type": "stream",
     "text": [
      "The price of brent oil as a percentage ofcrude oil in 2010: 15.91%\n"
     ]
    }
   ],
   "source": [
    "if percentage is not None:\n",
    "    print(f\"The price of brent oil as a percentage ofcrude oil in {year}: {percentage:.2f}%\")\n",
    "else:\n",
    "    print(f\"Data for the year {year} not found.\")"
   ]
  },
  {
   "cell_type": "code",
   "execution_count": 179,
   "id": "042fda73",
   "metadata": {},
   "outputs": [
    {
     "name": "stdout",
     "output_type": "stream",
     "text": [
      "Percentage in 2012: 15.88%\n"
     ]
    }
   ],
   "source": [
    "percentage_2012 = calculate_price_percentage(merged_yearly_summary, 2012, Brent_Price_USD, Crude_Price_USD)\n",
    "print(f\"Percentage in 2012: {percentage_2012:.2f}%\")"
   ]
  },
  {
   "cell_type": "code",
   "execution_count": 180,
   "id": "e2369188",
   "metadata": {},
   "outputs": [
    {
     "data": {
      "text/plain": [
       "15.884659530690223"
      ]
     },
     "execution_count": 180,
     "metadata": {},
     "output_type": "execute_result"
    }
   ],
   "source": [
    "percentage_2012"
   ]
  },
  {
   "cell_type": "code",
   "execution_count": 181,
   "id": "b9f8ecad",
   "metadata": {},
   "outputs": [
    {
     "name": "stdout",
     "output_type": "stream",
     "text": [
      "Percentage in 1990: 15.91%\n"
     ]
    }
   ],
   "source": [
    "year = 1990\n",
    "percentage_1990 = calculate_price_percentage(merged_yearly_summary, year, Brent_Price_USD, Crude_Price_USD)\n",
    "print(f\"Percentage in {year}: {percentage:.2f}%\")"
   ]
  },
  {
   "cell_type": "code",
   "execution_count": 182,
   "id": "0042454b",
   "metadata": {},
   "outputs": [
    {
     "name": "stdout",
     "output_type": "stream",
     "text": [
      "Percentage in 1990: 15.91%\n"
     ]
    }
   ],
   "source": [
    "percentage_calculation = calculate_price_percentage(merged_yearly_summary, year, Brent_Price_USD, Crude_Price_USD)\n",
    "print(f\"Percentage in {year}: {percentage:.2f}%\")"
   ]
  },
  {
   "cell_type": "code",
   "execution_count": 183,
   "id": "3dd9782e",
   "metadata": {},
   "outputs": [
    {
     "data": {
      "text/plain": [
       "15.922628580639616"
      ]
     },
     "execution_count": 183,
     "metadata": {},
     "output_type": "execute_result"
    }
   ],
   "source": [
    "year = 1996\n",
    "percentage_calculation"
   ]
  },
  {
   "cell_type": "code",
   "execution_count": 184,
   "id": "95447fe1",
   "metadata": {},
   "outputs": [],
   "source": [
    "year = 2022"
   ]
  },
  {
   "cell_type": "code",
   "execution_count": 185,
   "id": "68f10ce0",
   "metadata": {},
   "outputs": [
    {
     "data": {
      "text/plain": [
       "15.922628580639616"
      ]
     },
     "execution_count": 185,
     "metadata": {},
     "output_type": "execute_result"
    }
   ],
   "source": [
    "percentage_calculation"
   ]
  },
  {
   "cell_type": "code",
   "execution_count": 186,
   "id": "b0d70451",
   "metadata": {},
   "outputs": [],
   "source": [
    "merged_array = merged_yearly_summary.values"
   ]
  },
  {
   "cell_type": "code",
   "execution_count": 187,
   "id": "4bcb54f7",
   "metadata": {},
   "outputs": [
    {
     "name": "stdout",
     "output_type": "stream",
     "text": [
      "[[1987.           18.5258125   115.95271   ]\n",
      " [1988.           14.90541176   93.86798   ]\n",
      " [1989.           18.22822835  114.6386    ]\n",
      " [1990.           23.76144531  149.23067   ]\n",
      " [1991.           20.0411284   125.80175   ]\n",
      " [1992.           19.31972763  121.5242    ]\n",
      " [1993.           17.0134127   106.748184  ]\n",
      " [1994.           15.85638889   99.48971   ]\n",
      " [1995.           17.0158498   107.03151   ]\n",
      " [1996.           20.63980315  130.00066   ]\n",
      " [1997.           19.10850806  120.08856   ]\n",
      " [1998.           12.75810277   79.978966  ]\n",
      " [1999.           17.90156627  113.02819   ]\n",
      " [2000.           28.66067194  179.23068   ]\n",
      " [2001.           24.45571984  153.7472    ]\n",
      " [2002.           24.9932549   157.39128   ]\n",
      " [2003.           28.85081395  181.33936   ]\n",
      " [2004.           38.25969349  240.6792    ]\n",
      " [2005.           54.57455253  342.92673   ]\n",
      " [2006.           65.16176471  409.74313   ]\n",
      " [2007.           72.44116     455.3128    ]\n",
      " [2008.           96.94434783  611.72064   ]\n",
      " [2009.           61.73876984  387.89993   ]\n",
      " [2010.           79.60944444  500.01102   ]\n",
      " [2011.          111.26427419  699.77545   ]\n",
      " [2012.          111.57068273  702.38007   ]\n",
      " [2013.          108.555       683.4403    ]\n",
      " [2014.           98.9696063   622.3506    ]\n",
      " [2015.           52.31654902  329.50226   ]\n",
      " [2016.           43.638       275.07916   ]\n",
      " [2017.           54.12480469  340.85962   ]\n",
      " [2018.           71.335       448.526     ]\n",
      " [2019.           64.30062257  403.87164   ]\n",
      " [2020.           41.9572549   263.15482   ]\n",
      " [2021.           70.85533597  446.02164   ]\n",
      " [2022.          106.86057377  637.28253   ]]\n"
     ]
    }
   ],
   "source": [
    "print(merged_array)"
   ]
  },
  {
   "cell_type": "code",
   "execution_count": 188,
   "id": "edd23449",
   "metadata": {},
   "outputs": [
    {
     "name": "stdout",
     "output_type": "stream",
     "text": [
      "<class 'numpy.ndarray'>\n"
     ]
    }
   ],
   "source": [
    "print(type(merged_array))"
   ]
  },
  {
   "cell_type": "code",
   "execution_count": 189,
   "id": "75e7f868",
   "metadata": {},
   "outputs": [],
   "source": [
    "column1 = merged_array[:, 1]\n",
    "column2 = merged_array[:, 2]"
   ]
  },
  {
   "cell_type": "code",
   "execution_count": 190,
   "id": "09dd3c0e",
   "metadata": {},
   "outputs": [],
   "source": [
    "percentage_column = (column1 / column2) * 100"
   ]
  },
  {
   "cell_type": "code",
   "execution_count": 191,
   "id": "46752d67",
   "metadata": {},
   "outputs": [],
   "source": [
    "new_merged_yearly_summary = np.column_stack((merged_yearly_summary, percentage_column))"
   ]
  },
  {
   "cell_type": "code",
   "execution_count": 192,
   "id": "1221f11e",
   "metadata": {},
   "outputs": [
    {
     "name": "stdout",
     "output_type": "stream",
     "text": [
      "[[1987.           18.5258125   115.95271      15.97704142]\n",
      " [1988.           14.90541176   93.86798      15.87912275]\n",
      " [1989.           18.22822835  114.6386       15.90060272]\n",
      " [1990.           23.76144531  149.23067      15.92262858]\n",
      " [1991.           20.0411284   125.80175      15.93072307]\n",
      " [1992.           19.31972763  121.5242       15.89784391]\n",
      " [1993.           17.0134127   106.748184     15.93789427]\n",
      " [1994.           15.85638889   99.48971      15.93771747]\n",
      " [1995.           17.0158498   107.03151      15.89798163]\n",
      " [1996.           20.63980315  130.00066      15.87669105]\n",
      " [1997.           19.10850806  120.08856      15.91201365]\n",
      " [1998.           12.75810277   79.978966     15.95182259]\n",
      " [1999.           17.90156627  113.02819      15.83814291]\n",
      " [2000.           28.66067194  179.23068      15.9909408 ]\n",
      " [2001.           24.45571984  153.7472       15.90644893]\n",
      " [2002.           24.9932549   157.39128      15.8796948 ]\n",
      " [2003.           28.85081395  181.33936      15.90984657]\n",
      " [2004.           38.25969349  240.6792       15.89655171]\n",
      " [2005.           54.57455253  342.92673      15.91434781]\n",
      " [2006.           65.16176471  409.74313      15.90307681]\n",
      " [2007.           72.44116     455.3128       15.91019624]\n",
      " [2008.           96.94434783  611.72064      15.84781377]\n",
      " [2009.           61.73876984  387.89993      15.91615906]\n",
      " [2010.           79.60944444  500.01102      15.92153798]\n",
      " [2011.          111.26427419  699.77545      15.89999681]\n",
      " [2012.          111.57068273  702.38007      15.88465953]\n",
      " [2013.          108.555       683.4403       15.88361119]\n",
      " [2014.           98.9696063   622.3506       15.90254855]\n",
      " [2015.           52.31654902  329.50226      15.87744771]\n",
      " [2016.           43.638       275.07916      15.86379717]\n",
      " [2017.           54.12480469  340.85962      15.87891364]\n",
      " [2018.           71.335       448.526        15.9043177 ]\n",
      " [2019.           64.30062257  403.87164      15.92105417]\n",
      " [2020.           41.9572549   263.15482      15.94394315]\n",
      " [2021.           70.85533597  446.02164      15.88607583]\n",
      " [2022.          106.86057377  637.28253      16.76816306]]\n"
     ]
    }
   ],
   "source": [
    "print(new_merged_yearly_summary)"
   ]
  },
  {
   "cell_type": "code",
   "execution_count": 193,
   "id": "ba5461a5",
   "metadata": {},
   "outputs": [],
   "source": [
    "annual_oil_price_comparison = pd.DataFrame(new_merged_yearly_summary)"
   ]
  },
  {
   "cell_type": "code",
   "execution_count": 194,
   "id": "0ae2b246",
   "metadata": {},
   "outputs": [
    {
     "name": "stdout",
     "output_type": "stream",
     "text": [
      "         0           1           2          3\n",
      "0   1987.0   18.525813  115.952710  15.977041\n",
      "1   1988.0   14.905412   93.867980  15.879123\n",
      "2   1989.0   18.228228  114.638600  15.900603\n",
      "3   1990.0   23.761445  149.230670  15.922629\n",
      "4   1991.0   20.041128  125.801750  15.930723\n",
      "5   1992.0   19.319728  121.524200  15.897844\n",
      "6   1993.0   17.013413  106.748184  15.937894\n",
      "7   1994.0   15.856389   99.489710  15.937717\n",
      "8   1995.0   17.015850  107.031510  15.897982\n",
      "9   1996.0   20.639803  130.000660  15.876691\n",
      "10  1997.0   19.108508  120.088560  15.912014\n",
      "11  1998.0   12.758103   79.978966  15.951823\n",
      "12  1999.0   17.901566  113.028190  15.838143\n",
      "13  2000.0   28.660672  179.230680  15.990941\n",
      "14  2001.0   24.455720  153.747200  15.906449\n",
      "15  2002.0   24.993255  157.391280  15.879695\n",
      "16  2003.0   28.850814  181.339360  15.909847\n",
      "17  2004.0   38.259693  240.679200  15.896552\n",
      "18  2005.0   54.574553  342.926730  15.914348\n",
      "19  2006.0   65.161765  409.743130  15.903077\n",
      "20  2007.0   72.441160  455.312800  15.910196\n",
      "21  2008.0   96.944348  611.720640  15.847814\n",
      "22  2009.0   61.738770  387.899930  15.916159\n",
      "23  2010.0   79.609444  500.011020  15.921538\n",
      "24  2011.0  111.264274  699.775450  15.899997\n",
      "25  2012.0  111.570683  702.380070  15.884660\n",
      "26  2013.0  108.555000  683.440300  15.883611\n",
      "27  2014.0   98.969606  622.350600  15.902549\n",
      "28  2015.0   52.316549  329.502260  15.877448\n",
      "29  2016.0   43.638000  275.079160  15.863797\n",
      "30  2017.0   54.124805  340.859620  15.878914\n",
      "31  2018.0   71.335000  448.526000  15.904318\n",
      "32  2019.0   64.300623  403.871640  15.921054\n",
      "33  2020.0   41.957255  263.154820  15.943943\n",
      "34  2021.0   70.855336  446.021640  15.886076\n",
      "35  2022.0  106.860574  637.282530  16.768163\n"
     ]
    }
   ],
   "source": [
    "print(annual_oil_price_comparison)"
   ]
  },
  {
   "cell_type": "code",
   "execution_count": 195,
   "id": "5e63f9e7",
   "metadata": {},
   "outputs": [],
   "source": [
    "column_names = ['Year', 'Brent_Price_USD', 'Crude_Price_USD', '%'] "
   ]
  },
  {
   "cell_type": "code",
   "execution_count": 196,
   "id": "73f1afa3",
   "metadata": {},
   "outputs": [],
   "source": [
    "annual_oil_price_comparison.columns = column_names"
   ]
  },
  {
   "cell_type": "code",
   "execution_count": 197,
   "id": "c9b39732",
   "metadata": {},
   "outputs": [
    {
     "name": "stdout",
     "output_type": "stream",
     "text": [
      "      Year  Brent_Price_USD  Crude_Price_USD          %\n",
      "0   1987.0        18.525813       115.952710  15.977041\n",
      "1   1988.0        14.905412        93.867980  15.879123\n",
      "2   1989.0        18.228228       114.638600  15.900603\n",
      "3   1990.0        23.761445       149.230670  15.922629\n",
      "4   1991.0        20.041128       125.801750  15.930723\n",
      "5   1992.0        19.319728       121.524200  15.897844\n",
      "6   1993.0        17.013413       106.748184  15.937894\n",
      "7   1994.0        15.856389        99.489710  15.937717\n",
      "8   1995.0        17.015850       107.031510  15.897982\n",
      "9   1996.0        20.639803       130.000660  15.876691\n",
      "10  1997.0        19.108508       120.088560  15.912014\n",
      "11  1998.0        12.758103        79.978966  15.951823\n",
      "12  1999.0        17.901566       113.028190  15.838143\n",
      "13  2000.0        28.660672       179.230680  15.990941\n",
      "14  2001.0        24.455720       153.747200  15.906449\n",
      "15  2002.0        24.993255       157.391280  15.879695\n",
      "16  2003.0        28.850814       181.339360  15.909847\n",
      "17  2004.0        38.259693       240.679200  15.896552\n",
      "18  2005.0        54.574553       342.926730  15.914348\n",
      "19  2006.0        65.161765       409.743130  15.903077\n",
      "20  2007.0        72.441160       455.312800  15.910196\n",
      "21  2008.0        96.944348       611.720640  15.847814\n",
      "22  2009.0        61.738770       387.899930  15.916159\n",
      "23  2010.0        79.609444       500.011020  15.921538\n",
      "24  2011.0       111.264274       699.775450  15.899997\n",
      "25  2012.0       111.570683       702.380070  15.884660\n",
      "26  2013.0       108.555000       683.440300  15.883611\n",
      "27  2014.0        98.969606       622.350600  15.902549\n",
      "28  2015.0        52.316549       329.502260  15.877448\n",
      "29  2016.0        43.638000       275.079160  15.863797\n",
      "30  2017.0        54.124805       340.859620  15.878914\n",
      "31  2018.0        71.335000       448.526000  15.904318\n",
      "32  2019.0        64.300623       403.871640  15.921054\n",
      "33  2020.0        41.957255       263.154820  15.943943\n",
      "34  2021.0        70.855336       446.021640  15.886076\n",
      "35  2022.0       106.860574       637.282530  16.768163\n"
     ]
    }
   ],
   "source": [
    "print(annual_oil_price_comparison)"
   ]
  },
  {
   "cell_type": "code",
   "execution_count": 198,
   "id": "63d96dd3",
   "metadata": {},
   "outputs": [],
   "source": [
    "ship_price = pd.read_excel('Shipping_TCE.xlsx', header = None)"
   ]
  },
  {
   "cell_type": "code",
   "execution_count": 199,
   "id": "c44951a1",
   "metadata": {},
   "outputs": [
    {
     "name": "stdout",
     "output_type": "stream",
     "text": [
      "                                                     0  \\\n",
      "0             Shipping Intelligence Network Timeseries   \n",
      "1                           Created 15 July 2022 08:09   \n",
      "2                                                  NaN   \n",
      "3                                                  NaN   \n",
      "4                                                  NaN   \n",
      "..                                                 ...   \n",
      "424  540630: Series based on 47-48,000 dwt products...   \n",
      "425                                                NaN   \n",
      "426                                                NaN   \n",
      "427                                                NaN   \n",
      "428          © Clarkson Research Services Limited 2022   \n",
      "\n",
      "                                                1  \\\n",
      "0                                             NaN   \n",
      "1                                             NaN   \n",
      "2                                             NaN   \n",
      "3                                           48962   \n",
      "4    1 Year Timecharter Rate 310,000 dwt D/H VLCC   \n",
      "..                                            ...   \n",
      "424                                           NaN   \n",
      "425                                           NaN   \n",
      "426                                           NaN   \n",
      "427                                           NaN   \n",
      "428                                           NaN   \n",
      "\n",
      "                                                     2  \\\n",
      "0                                                  NaN   \n",
      "1                                                  NaN   \n",
      "2                                                  NaN   \n",
      "3                                                49058   \n",
      "4    1 Year Timecharter Rate 74,000 dwt LR1 Product...   \n",
      "..                                                 ...   \n",
      "424                                                NaN   \n",
      "425                                                NaN   \n",
      "426                                                NaN   \n",
      "427                                                NaN   \n",
      "428                                                NaN   \n",
      "\n",
      "                                                     3  \n",
      "0                                                  NaN  \n",
      "1                                                  NaN  \n",
      "2                                                  NaN  \n",
      "3                                               540630  \n",
      "4    1 Year Timecharter Rate MR Products Tanker (Lo...  \n",
      "..                                                 ...  \n",
      "424                                                NaN  \n",
      "425                                                NaN  \n",
      "426                                                NaN  \n",
      "427                                                NaN  \n",
      "428                                                NaN  \n",
      "\n",
      "[429 rows x 4 columns]\n"
     ]
    }
   ],
   "source": [
    "print(ship_price)"
   ]
  },
  {
   "cell_type": "code",
   "execution_count": 200,
   "id": "34438593",
   "metadata": {},
   "outputs": [],
   "source": [
    "ship_price = ship_price.iloc[5:]"
   ]
  },
  {
   "cell_type": "code",
   "execution_count": 201,
   "id": "2d2ba6ff",
   "metadata": {},
   "outputs": [
    {
     "name": "stdout",
     "output_type": "stream",
     "text": [
      "                                                     0      1      2      3\n",
      "5                                                 Date  $/day  $/day  $/day\n",
      "6                                  1988-01-01 00:00:00    NaN    NaN   9000\n",
      "7                                  1988-02-01 00:00:00    NaN    NaN   9075\n",
      "8                                  1988-03-01 00:00:00    NaN    NaN   9100\n",
      "9                                  1988-04-01 00:00:00    NaN    NaN   8820\n",
      "..                                                 ...    ...    ...    ...\n",
      "424  540630: Series based on 47-48,000 dwt products...    NaN    NaN    NaN\n",
      "425                                                NaN    NaN    NaN    NaN\n",
      "426                                                NaN    NaN    NaN    NaN\n",
      "427                                                NaN    NaN    NaN    NaN\n",
      "428          © Clarkson Research Services Limited 2022    NaN    NaN    NaN\n",
      "\n",
      "[424 rows x 4 columns]\n"
     ]
    }
   ],
   "source": [
    "print(ship_price)"
   ]
  },
  {
   "cell_type": "code",
   "execution_count": 202,
   "id": "54613968",
   "metadata": {},
   "outputs": [],
   "source": [
    "ship_price.columns = ['Date', '310K_Tonner', '74K_Tonner', 'MR_Products']"
   ]
  },
  {
   "cell_type": "code",
   "execution_count": 203,
   "id": "0b4ce138",
   "metadata": {},
   "outputs": [
    {
     "name": "stdout",
     "output_type": "stream",
     "text": [
      "                                                  Date 310K_Tonner 74K_Tonner  \\\n",
      "5                                                 Date       $/day      $/day   \n",
      "6                                  1988-01-01 00:00:00         NaN        NaN   \n",
      "7                                  1988-02-01 00:00:00         NaN        NaN   \n",
      "8                                  1988-03-01 00:00:00         NaN        NaN   \n",
      "9                                  1988-04-01 00:00:00         NaN        NaN   \n",
      "..                                                 ...         ...        ...   \n",
      "424  540630: Series based on 47-48,000 dwt products...         NaN        NaN   \n",
      "425                                                NaN         NaN        NaN   \n",
      "426                                                NaN         NaN        NaN   \n",
      "427                                                NaN         NaN        NaN   \n",
      "428          © Clarkson Research Services Limited 2022         NaN        NaN   \n",
      "\n",
      "    MR_Products  \n",
      "5         $/day  \n",
      "6          9000  \n",
      "7          9075  \n",
      "8          9100  \n",
      "9          8820  \n",
      "..          ...  \n",
      "424         NaN  \n",
      "425         NaN  \n",
      "426         NaN  \n",
      "427         NaN  \n",
      "428         NaN  \n",
      "\n",
      "[424 rows x 4 columns]\n"
     ]
    }
   ],
   "source": [
    "print(ship_price)"
   ]
  },
  {
   "cell_type": "code",
   "execution_count": 204,
   "id": "e3d6d0a2",
   "metadata": {},
   "outputs": [],
   "source": [
    "ship_price = ship_price.iloc[:-5]"
   ]
  },
  {
   "cell_type": "code",
   "execution_count": 205,
   "id": "0e46f151",
   "metadata": {},
   "outputs": [
    {
     "name": "stdout",
     "output_type": "stream",
     "text": [
      "                                                  Date 310K_Tonner 74K_Tonner  \\\n",
      "5                                                 Date       $/day      $/day   \n",
      "6                                  1988-01-01 00:00:00         NaN        NaN   \n",
      "7                                  1988-02-01 00:00:00         NaN        NaN   \n",
      "8                                  1988-03-01 00:00:00         NaN        NaN   \n",
      "9                                  1988-04-01 00:00:00         NaN        NaN   \n",
      "..                                                 ...         ...        ...   \n",
      "419                                2022-06-01 00:00:00       16000      22750   \n",
      "420                                                NaN         NaN        NaN   \n",
      "421                          Please note the following         NaN        NaN   \n",
      "422  48962: The parameters of this time series can ...         NaN        NaN   \n",
      "423  49058: The parameters of this time series can ...         NaN        NaN   \n",
      "\n",
      "    MR_Products  \n",
      "5         $/day  \n",
      "6          9000  \n",
      "7          9075  \n",
      "8          9100  \n",
      "9          8820  \n",
      "..          ...  \n",
      "419       19500  \n",
      "420         NaN  \n",
      "421         NaN  \n",
      "422         NaN  \n",
      "423         NaN  \n",
      "\n",
      "[419 rows x 4 columns]\n"
     ]
    }
   ],
   "source": [
    "print(ship_price)"
   ]
  },
  {
   "cell_type": "code",
   "execution_count": 206,
   "id": "7934ea2a",
   "metadata": {},
   "outputs": [],
   "source": [
    "ship_price = ship_price.iloc[:-4]"
   ]
  },
  {
   "cell_type": "code",
   "execution_count": 207,
   "id": "c61149fd",
   "metadata": {},
   "outputs": [
    {
     "name": "stdout",
     "output_type": "stream",
     "text": [
      "                    Date 310K_Tonner 74K_Tonner MR_Products\n",
      "5                   Date       $/day      $/day       $/day\n",
      "6    1988-01-01 00:00:00         NaN        NaN        9000\n",
      "7    1988-02-01 00:00:00         NaN        NaN        9075\n",
      "8    1988-03-01 00:00:00         NaN        NaN        9100\n",
      "9    1988-04-01 00:00:00         NaN        NaN        8820\n",
      "..                   ...         ...        ...         ...\n",
      "415  2022-02-01 00:00:00       17125      13625    12468.75\n",
      "416  2022-03-01 00:00:00       17125      15125     13687.5\n",
      "417  2022-04-01 00:00:00       15800      15900       15350\n",
      "418  2022-05-01 00:00:00       16000    18437.5       17500\n",
      "419  2022-06-01 00:00:00       16000      22750       19500\n",
      "\n",
      "[415 rows x 4 columns]\n"
     ]
    }
   ],
   "source": [
    "print(ship_price)"
   ]
  },
  {
   "cell_type": "code",
   "execution_count": 208,
   "id": "07426ca2",
   "metadata": {},
   "outputs": [],
   "source": [
    "ship_price = ship_price.iloc[1:]"
   ]
  },
  {
   "cell_type": "code",
   "execution_count": 209,
   "id": "cf5b7691",
   "metadata": {},
   "outputs": [
    {
     "name": "stdout",
     "output_type": "stream",
     "text": [
      "                    Date 310K_Tonner 74K_Tonner MR_Products\n",
      "6    1988-01-01 00:00:00         NaN        NaN        9000\n",
      "7    1988-02-01 00:00:00         NaN        NaN        9075\n",
      "8    1988-03-01 00:00:00         NaN        NaN        9100\n",
      "9    1988-04-01 00:00:00         NaN        NaN        8820\n",
      "10   1988-05-01 00:00:00         NaN        NaN        9000\n",
      "..                   ...         ...        ...         ...\n",
      "415  2022-02-01 00:00:00       17125      13625    12468.75\n",
      "416  2022-03-01 00:00:00       17125      15125     13687.5\n",
      "417  2022-04-01 00:00:00       15800      15900       15350\n",
      "418  2022-05-01 00:00:00       16000    18437.5       17500\n",
      "419  2022-06-01 00:00:00       16000      22750       19500\n",
      "\n",
      "[414 rows x 4 columns]\n"
     ]
    }
   ],
   "source": [
    "print(ship_price)"
   ]
  },
  {
   "cell_type": "code",
   "execution_count": 210,
   "id": "34a455f6",
   "metadata": {},
   "outputs": [],
   "source": [
    "ship_price = ship_price.reset_index(drop=True)"
   ]
  },
  {
   "cell_type": "code",
   "execution_count": 211,
   "id": "131da5e9",
   "metadata": {},
   "outputs": [
    {
     "name": "stdout",
     "output_type": "stream",
     "text": [
      "                    Date 310K_Tonner 74K_Tonner MR_Products\n",
      "0    1988-01-01 00:00:00         NaN        NaN        9000\n",
      "1    1988-02-01 00:00:00         NaN        NaN        9075\n",
      "2    1988-03-01 00:00:00         NaN        NaN        9100\n",
      "3    1988-04-01 00:00:00         NaN        NaN        8820\n",
      "4    1988-05-01 00:00:00         NaN        NaN        9000\n",
      "..                   ...         ...        ...         ...\n",
      "409  2022-02-01 00:00:00       17125      13625    12468.75\n",
      "410  2022-03-01 00:00:00       17125      15125     13687.5\n",
      "411  2022-04-01 00:00:00       15800      15900       15350\n",
      "412  2022-05-01 00:00:00       16000    18437.5       17500\n",
      "413  2022-06-01 00:00:00       16000      22750       19500\n",
      "\n",
      "[414 rows x 4 columns]\n"
     ]
    }
   ],
   "source": [
    "print(ship_price)"
   ]
  },
  {
   "cell_type": "code",
   "execution_count": 212,
   "id": "fedde7b7",
   "metadata": {},
   "outputs": [],
   "source": [
    "ship_price = ship_price.fillna(0)"
   ]
  },
  {
   "cell_type": "code",
   "execution_count": 213,
   "id": "d2cc7d37",
   "metadata": {},
   "outputs": [
    {
     "name": "stdout",
     "output_type": "stream",
     "text": [
      "          Date  310K_Tonner  74K_Tonner  MR_Products\n",
      "0   1988-01-01          0.0         0.0      9000.00\n",
      "1   1988-02-01          0.0         0.0      9075.00\n",
      "2   1988-03-01          0.0         0.0      9100.00\n",
      "3   1988-04-01          0.0         0.0      8820.00\n",
      "4   1988-05-01          0.0         0.0      9000.00\n",
      "..         ...          ...         ...          ...\n",
      "409 2022-02-01      17125.0     13625.0     12468.75\n",
      "410 2022-03-01      17125.0     15125.0     13687.50\n",
      "411 2022-04-01      15800.0     15900.0     15350.00\n",
      "412 2022-05-01      16000.0     18437.5     17500.00\n",
      "413 2022-06-01      16000.0     22750.0     19500.00\n",
      "\n",
      "[414 rows x 4 columns]\n"
     ]
    }
   ],
   "source": [
    "print(ship_price)"
   ]
  },
  {
   "cell_type": "code",
   "execution_count": 214,
   "id": "a598a8a3",
   "metadata": {},
   "outputs": [],
   "source": [
    "ship_price['Date'] = pd.to_datetime(ship_price['Date'])"
   ]
  },
  {
   "cell_type": "code",
   "execution_count": 215,
   "id": "08b68b3c",
   "metadata": {},
   "outputs": [
    {
     "name": "stdout",
     "output_type": "stream",
     "text": [
      "          Date  310K_Tonner  74K_Tonner  MR_Products\n",
      "0   1988-01-01          0.0         0.0      9000.00\n",
      "1   1988-02-01          0.0         0.0      9075.00\n",
      "2   1988-03-01          0.0         0.0      9100.00\n",
      "3   1988-04-01          0.0         0.0      8820.00\n",
      "4   1988-05-01          0.0         0.0      9000.00\n",
      "..         ...          ...         ...          ...\n",
      "409 2022-02-01      17125.0     13625.0     12468.75\n",
      "410 2022-03-01      17125.0     15125.0     13687.50\n",
      "411 2022-04-01      15800.0     15900.0     15350.00\n",
      "412 2022-05-01      16000.0     18437.5     17500.00\n",
      "413 2022-06-01      16000.0     22750.0     19500.00\n",
      "\n",
      "[414 rows x 4 columns]\n"
     ]
    }
   ],
   "source": [
    "print(ship_price)"
   ]
  },
  {
   "cell_type": "code",
   "execution_count": null,
   "id": "0dd2fa88",
   "metadata": {},
   "outputs": [],
   "source": []
  },
  {
   "cell_type": "code",
   "execution_count": null,
   "id": "8fd630ad",
   "metadata": {},
   "outputs": [],
   "source": []
  },
  {
   "cell_type": "code",
   "execution_count": 216,
   "id": "97ce85d2",
   "metadata": {},
   "outputs": [
    {
     "data": {
      "text/html": [
       "<div>\n",
       "<style scoped>\n",
       "    .dataframe tbody tr th:only-of-type {\n",
       "        vertical-align: middle;\n",
       "    }\n",
       "\n",
       "    .dataframe tbody tr th {\n",
       "        vertical-align: top;\n",
       "    }\n",
       "\n",
       "    .dataframe thead th {\n",
       "        text-align: right;\n",
       "    }\n",
       "</style>\n",
       "<table border=\"1\" class=\"dataframe\">\n",
       "  <thead>\n",
       "    <tr style=\"text-align: right;\">\n",
       "      <th></th>\n",
       "      <th>310K_Tonner</th>\n",
       "      <th>74K_Tonner</th>\n",
       "      <th>MR_Products</th>\n",
       "    </tr>\n",
       "  </thead>\n",
       "  <tbody>\n",
       "    <tr>\n",
       "      <th>count</th>\n",
       "      <td>414.000000</td>\n",
       "      <td>414.000000</td>\n",
       "      <td>414.000000</td>\n",
       "    </tr>\n",
       "    <tr>\n",
       "      <th>mean</th>\n",
       "      <td>24657.853261</td>\n",
       "      <td>12565.262681</td>\n",
       "      <td>14995.987319</td>\n",
       "    </tr>\n",
       "    <tr>\n",
       "      <th>std</th>\n",
       "      <td>22322.642480</td>\n",
       "      <td>10691.772029</td>\n",
       "      <td>4621.625555</td>\n",
       "    </tr>\n",
       "    <tr>\n",
       "      <th>min</th>\n",
       "      <td>0.000000</td>\n",
       "      <td>0.000000</td>\n",
       "      <td>8820.000000</td>\n",
       "    </tr>\n",
       "    <tr>\n",
       "      <th>25%</th>\n",
       "      <td>0.000000</td>\n",
       "      <td>0.000000</td>\n",
       "      <td>12476.562500</td>\n",
       "    </tr>\n",
       "    <tr>\n",
       "      <th>50%</th>\n",
       "      <td>24500.000000</td>\n",
       "      <td>14500.000000</td>\n",
       "      <td>13750.000000</td>\n",
       "    </tr>\n",
       "    <tr>\n",
       "      <th>75%</th>\n",
       "      <td>40787.500000</td>\n",
       "      <td>19046.875000</td>\n",
       "      <td>15431.250000</td>\n",
       "    </tr>\n",
       "    <tr>\n",
       "      <th>max</th>\n",
       "      <td>90000.000000</td>\n",
       "      <td>37100.000000</td>\n",
       "      <td>30500.000000</td>\n",
       "    </tr>\n",
       "  </tbody>\n",
       "</table>\n",
       "</div>"
      ],
      "text/plain": [
       "        310K_Tonner    74K_Tonner   MR_Products\n",
       "count    414.000000    414.000000    414.000000\n",
       "mean   24657.853261  12565.262681  14995.987319\n",
       "std    22322.642480  10691.772029   4621.625555\n",
       "min        0.000000      0.000000   8820.000000\n",
       "25%        0.000000      0.000000  12476.562500\n",
       "50%    24500.000000  14500.000000  13750.000000\n",
       "75%    40787.500000  19046.875000  15431.250000\n",
       "max    90000.000000  37100.000000  30500.000000"
      ]
     },
     "execution_count": 216,
     "metadata": {},
     "output_type": "execute_result"
    }
   ],
   "source": [
    "ship_price.describe()"
   ]
  },
  {
   "cell_type": "code",
   "execution_count": 217,
   "id": "07722785",
   "metadata": {},
   "outputs": [],
   "source": [
    "ship_price['Year'] = ship_price['Date'].dt.year"
   ]
  },
  {
   "cell_type": "code",
   "execution_count": 218,
   "id": "36a59fdc",
   "metadata": {},
   "outputs": [],
   "source": [
    "annual_ship_price = ship_price.groupby('Year').agg({'310K_Tonner': 'mean', '74K_Tonner': 'mean', 'MR_Products': 'mean'})"
   ]
  },
  {
   "cell_type": "code",
   "execution_count": 219,
   "id": "daf44a2b",
   "metadata": {},
   "outputs": [
    {
     "name": "stdout",
     "output_type": "stream",
     "text": [
      "       310K_Tonner    74K_Tonner   MR_Products\n",
      "Year                                          \n",
      "1988      0.000000      0.000000   9016.250000\n",
      "1989      0.000000      0.000000  10547.916667\n",
      "1990      0.000000      0.000000  11317.708333\n",
      "1991      0.000000      0.000000  12547.916667\n",
      "1992      0.000000      0.000000  10433.333333\n",
      "1993      0.000000      0.000000  10158.333333\n",
      "1994      0.000000      0.000000  11291.666667\n",
      "1995      0.000000      0.000000  13593.750000\n",
      "1996      0.000000      0.000000  14020.833333\n",
      "1997      0.000000      0.000000  14460.208333\n",
      "1998      0.000000      0.000000  13046.875000\n",
      "1999      0.000000      0.000000  11387.500000\n",
      "2000  35631.250000  11976.041667  14576.041667\n",
      "2001  40618.750000  22818.750000  18865.625000\n",
      "2002  25828.750000  16491.666667  13338.541667\n",
      "2003  34372.916667  18605.208333  14718.125000\n",
      "2004  55447.916667  24448.958333  18896.875000\n",
      "2005  58583.333333  31908.333333  26027.083333\n",
      "2006  58312.500000  31089.583333  27006.250000\n",
      "2007  55641.666667  29300.000000  25891.666667\n",
      "2008  73208.333333  29185.416667  23445.833333\n",
      "2009  39550.000000  19304.166667  15181.250000\n",
      "2010  38016.666667  16625.000000  13168.750000\n",
      "2011  25030.208333  14746.875000  13654.166667\n",
      "2012  22089.583333  12994.791667  13518.750000\n",
      "2013  19841.666667  14968.750000  14343.750000\n",
      "2014  28145.833333  15913.541667  14637.500000\n",
      "2015  48391.666667  23596.875000  17754.166667\n",
      "2016  36554.166667  18127.083333  15078.437500\n",
      "2017  27142.708333  13079.166667  13219.270833\n",
      "2018  22965.104167  12969.791667  13131.250000\n",
      "2019  36387.500000  16629.166667  14682.291667\n",
      "2020  39607.291667  16838.020833  14388.541667\n",
      "2021  20948.958333  13564.583333  12420.833333\n",
      "2022  16758.333333  16639.583333  15188.541667\n"
     ]
    }
   ],
   "source": [
    "print(annual_ship_price)"
   ]
  },
  {
   "cell_type": "code",
   "execution_count": 220,
   "id": "086faed4",
   "metadata": {},
   "outputs": [],
   "source": [
    "import matplotlib.pyplot as plt"
   ]
  },
  {
   "cell_type": "code",
   "execution_count": 221,
   "id": "55248420",
   "metadata": {},
   "outputs": [
    {
     "data": {
      "image/png": "[encoded data removed]",
      "text/plain": [
       "<Figure size 720x432 with 1 Axes>"
      ]
     },
     "metadata": {
      "needs_background": "light"
     },
     "output_type": "display_data"
    }
   ],
   "source": [
    "fig, ax1 = plt.subplots(figsize=(10, 6))"
   ]
  },
  {
   "cell_type": "code",
   "execution_count": 222,
   "id": "de14cc4c",
   "metadata": {},
   "outputs": [],
   "source": [
    "annual_ship_price.columns = annual_ship_price.columns.str.strip()"
   ]
  },
  {
   "cell_type": "code",
   "execution_count": 223,
   "id": "a8601144",
   "metadata": {},
   "outputs": [
    {
     "name": "stdout",
     "output_type": "stream",
     "text": [
      "       310K_Tonner    74K_Tonner   MR_Products\n",
      "Year                                          \n",
      "1988      0.000000      0.000000   9016.250000\n",
      "1989      0.000000      0.000000  10547.916667\n",
      "1990      0.000000      0.000000  11317.708333\n",
      "1991      0.000000      0.000000  12547.916667\n",
      "1992      0.000000      0.000000  10433.333333\n",
      "1993      0.000000      0.000000  10158.333333\n",
      "1994      0.000000      0.000000  11291.666667\n",
      "1995      0.000000      0.000000  13593.750000\n",
      "1996      0.000000      0.000000  14020.833333\n",
      "1997      0.000000      0.000000  14460.208333\n",
      "1998      0.000000      0.000000  13046.875000\n",
      "1999      0.000000      0.000000  11387.500000\n",
      "2000  35631.250000  11976.041667  14576.041667\n",
      "2001  40618.750000  22818.750000  18865.625000\n",
      "2002  25828.750000  16491.666667  13338.541667\n",
      "2003  34372.916667  18605.208333  14718.125000\n",
      "2004  55447.916667  24448.958333  18896.875000\n",
      "2005  58583.333333  31908.333333  26027.083333\n",
      "2006  58312.500000  31089.583333  27006.250000\n",
      "2007  55641.666667  29300.000000  25891.666667\n",
      "2008  73208.333333  29185.416667  23445.833333\n",
      "2009  39550.000000  19304.166667  15181.250000\n",
      "2010  38016.666667  16625.000000  13168.750000\n",
      "2011  25030.208333  14746.875000  13654.166667\n",
      "2012  22089.583333  12994.791667  13518.750000\n",
      "2013  19841.666667  14968.750000  14343.750000\n",
      "2014  28145.833333  15913.541667  14637.500000\n",
      "2015  48391.666667  23596.875000  17754.166667\n",
      "2016  36554.166667  18127.083333  15078.437500\n",
      "2017  27142.708333  13079.166667  13219.270833\n",
      "2018  22965.104167  12969.791667  13131.250000\n",
      "2019  36387.500000  16629.166667  14682.291667\n",
      "2020  39607.291667  16838.020833  14388.541667\n",
      "2021  20948.958333  13564.583333  12420.833333\n",
      "2022  16758.333333  16639.583333  15188.541667\n"
     ]
    }
   ],
   "source": [
    "print(annual_ship_price)"
   ]
  },
  {
   "cell_type": "code",
   "execution_count": 224,
   "id": "3708c6e2",
   "metadata": {},
   "outputs": [],
   "source": [
    "annual_ship_price.index.name = 'Year'"
   ]
  },
  {
   "cell_type": "code",
   "execution_count": 225,
   "id": "78b82e68",
   "metadata": {},
   "outputs": [
    {
     "name": "stdout",
     "output_type": "stream",
     "text": [
      "       310K_Tonner    74K_Tonner   MR_Products\n",
      "Year                                          \n",
      "1988      0.000000      0.000000   9016.250000\n",
      "1989      0.000000      0.000000  10547.916667\n",
      "1990      0.000000      0.000000  11317.708333\n",
      "1991      0.000000      0.000000  12547.916667\n",
      "1992      0.000000      0.000000  10433.333333\n",
      "1993      0.000000      0.000000  10158.333333\n",
      "1994      0.000000      0.000000  11291.666667\n",
      "1995      0.000000      0.000000  13593.750000\n",
      "1996      0.000000      0.000000  14020.833333\n",
      "1997      0.000000      0.000000  14460.208333\n",
      "1998      0.000000      0.000000  13046.875000\n",
      "1999      0.000000      0.000000  11387.500000\n",
      "2000  35631.250000  11976.041667  14576.041667\n",
      "2001  40618.750000  22818.750000  18865.625000\n",
      "2002  25828.750000  16491.666667  13338.541667\n",
      "2003  34372.916667  18605.208333  14718.125000\n",
      "2004  55447.916667  24448.958333  18896.875000\n",
      "2005  58583.333333  31908.333333  26027.083333\n",
      "2006  58312.500000  31089.583333  27006.250000\n",
      "2007  55641.666667  29300.000000  25891.666667\n",
      "2008  73208.333333  29185.416667  23445.833333\n",
      "2009  39550.000000  19304.166667  15181.250000\n",
      "2010  38016.666667  16625.000000  13168.750000\n",
      "2011  25030.208333  14746.875000  13654.166667\n",
      "2012  22089.583333  12994.791667  13518.750000\n",
      "2013  19841.666667  14968.750000  14343.750000\n",
      "2014  28145.833333  15913.541667  14637.500000\n",
      "2015  48391.666667  23596.875000  17754.166667\n",
      "2016  36554.166667  18127.083333  15078.437500\n",
      "2017  27142.708333  13079.166667  13219.270833\n",
      "2018  22965.104167  12969.791667  13131.250000\n",
      "2019  36387.500000  16629.166667  14682.291667\n",
      "2020  39607.291667  16838.020833  14388.541667\n",
      "2021  20948.958333  13564.583333  12420.833333\n",
      "2022  16758.333333  16639.583333  15188.541667\n"
     ]
    }
   ],
   "source": [
    "print(annual_ship_price)"
   ]
  },
  {
   "cell_type": "code",
   "execution_count": 226,
   "id": "8c8616d2",
   "metadata": {},
   "outputs": [],
   "source": [
    "annual_ship_price.reset_index(inplace=True)"
   ]
  },
  {
   "cell_type": "code",
   "execution_count": 227,
   "id": "4576209e",
   "metadata": {},
   "outputs": [
    {
     "name": "stdout",
     "output_type": "stream",
     "text": [
      "    Year   310K_Tonner    74K_Tonner   MR_Products\n",
      "0   1988      0.000000      0.000000   9016.250000\n",
      "1   1989      0.000000      0.000000  10547.916667\n",
      "2   1990      0.000000      0.000000  11317.708333\n",
      "3   1991      0.000000      0.000000  12547.916667\n",
      "4   1992      0.000000      0.000000  10433.333333\n",
      "5   1993      0.000000      0.000000  10158.333333\n",
      "6   1994      0.000000      0.000000  11291.666667\n",
      "7   1995      0.000000      0.000000  13593.750000\n",
      "8   1996      0.000000      0.000000  14020.833333\n",
      "9   1997      0.000000      0.000000  14460.208333\n",
      "10  1998      0.000000      0.000000  13046.875000\n",
      "11  1999      0.000000      0.000000  11387.500000\n",
      "12  2000  35631.250000  11976.041667  14576.041667\n",
      "13  2001  40618.750000  22818.750000  18865.625000\n",
      "14  2002  25828.750000  16491.666667  13338.541667\n",
      "15  2003  34372.916667  18605.208333  14718.125000\n",
      "16  2004  55447.916667  24448.958333  18896.875000\n",
      "17  2005  58583.333333  31908.333333  26027.083333\n",
      "18  2006  58312.500000  31089.583333  27006.250000\n",
      "19  2007  55641.666667  29300.000000  25891.666667\n",
      "20  2008  73208.333333  29185.416667  23445.833333\n",
      "21  2009  39550.000000  19304.166667  15181.250000\n",
      "22  2010  38016.666667  16625.000000  13168.750000\n",
      "23  2011  25030.208333  14746.875000  13654.166667\n",
      "24  2012  22089.583333  12994.791667  13518.750000\n",
      "25  2013  19841.666667  14968.750000  14343.750000\n",
      "26  2014  28145.833333  15913.541667  14637.500000\n",
      "27  2015  48391.666667  23596.875000  17754.166667\n",
      "28  2016  36554.166667  18127.083333  15078.437500\n",
      "29  2017  27142.708333  13079.166667  13219.270833\n",
      "30  2018  22965.104167  12969.791667  13131.250000\n",
      "31  2019  36387.500000  16629.166667  14682.291667\n",
      "32  2020  39607.291667  16838.020833  14388.541667\n",
      "33  2021  20948.958333  13564.583333  12420.833333\n",
      "34  2022  16758.333333  16639.583333  15188.541667\n"
     ]
    }
   ],
   "source": [
    "print(annual_ship_price)"
   ]
  },
  {
   "cell_type": "code",
   "execution_count": 228,
   "id": "6c6a65fe",
   "metadata": {
    "scrolled": true
   },
   "outputs": [
    {
     "data": {
      "image/png": "[encoded data removed]",
      "text/plain": [
       "<Figure size 432x288 with 1 Axes>"
      ]
     },
     "metadata": {
      "needs_background": "light"
     },
     "output_type": "display_data"
    }
   ],
   "source": [
    "ax1.plot(merged_yearly_summary['Year'], merged_yearly_summary['Brent_Price_USD'], color='blue', label='Brent Oil Price')\n",
    "ax1.set_xlabel('Year')\n",
    "ax1.set_ylabel('Brent Oil Price', color='blue')\n",
    "\n",
    "ax2 = ax1.twinx()\n",
    "\n",
    "ax2.plot(annual_ship_price['Year'], annual_ship_price['310K_Tonner'], color='orange', label='310K T Shipping Price')\n",
    "ax2.set_ylabel('310K T Shipping Price', color='orange')\n",
    "\n",
    "plt.title('Brent Oil & 310K T Ship prices')\n",
    "plt.grid()\n",
    "\n",
    "plt.show()"
   ]
  },
  {
   "cell_type": "code",
   "execution_count": 229,
   "id": "553f6112",
   "metadata": {},
   "outputs": [
    {
     "name": "stdout",
     "output_type": "stream",
     "text": [
      "    Year  Brent_Price_USD  Crude_Price_USD\n",
      "0   1987        18.525813       115.952710\n",
      "1   1988        14.905412        93.867980\n",
      "2   1989        18.228228       114.638600\n",
      "3   1990        23.761445       149.230670\n",
      "4   1991        20.041128       125.801750\n",
      "5   1992        19.319728       121.524200\n",
      "6   1993        17.013413       106.748184\n",
      "7   1994        15.856389        99.489710\n",
      "8   1995        17.015850       107.031510\n",
      "9   1996        20.639803       130.000660\n",
      "10  1997        19.108508       120.088560\n",
      "11  1998        12.758103        79.978966\n",
      "12  1999        17.901566       113.028190\n",
      "13  2000        28.660672       179.230680\n",
      "14  2001        24.455720       153.747200\n",
      "15  2002        24.993255       157.391280\n",
      "16  2003        28.850814       181.339360\n",
      "17  2004        38.259693       240.679200\n",
      "18  2005        54.574553       342.926730\n",
      "19  2006        65.161765       409.743130\n",
      "20  2007        72.441160       455.312800\n",
      "21  2008        96.944348       611.720640\n",
      "22  2009        61.738770       387.899930\n",
      "23  2010        79.609444       500.011020\n",
      "24  2011       111.264274       699.775450\n",
      "25  2012       111.570683       702.380070\n",
      "26  2013       108.555000       683.440300\n",
      "27  2014        98.969606       622.350600\n",
      "28  2015        52.316549       329.502260\n",
      "29  2016        43.638000       275.079160\n",
      "30  2017        54.124805       340.859620\n",
      "31  2018        71.335000       448.526000\n",
      "32  2019        64.300623       403.871640\n",
      "33  2020        41.957255       263.154820\n",
      "34  2021        70.855336       446.021640\n",
      "35  2022       106.860574       637.282530\n"
     ]
    }
   ],
   "source": [
    "print(merged_yearly_summary)"
   ]
  },
  {
   "cell_type": "code",
   "execution_count": 230,
   "id": "a0d16dfe",
   "metadata": {},
   "outputs": [
    {
     "ename": "AssertionError",
     "evalue": "Data mismatch",
     "output_type": "error",
     "traceback": [
      "\u001b[0;31m---------------------------------------------------------------------------\u001b[0m",
      "\u001b[0;31mAssertionError\u001b[0m                            Traceback (most recent call last)",
      "\u001b[0;32m<ipython-input-230-53534d0d1186>\u001b[0m in \u001b[0;36m<module>\u001b[0;34m\u001b[0m\n\u001b[0;32m----> 1\u001b[0;31m \u001b[0;32massert\u001b[0m \u001b[0mmerged_yearly_summary\u001b[0m\u001b[0;34m[\u001b[0m\u001b[0;34m'Year'\u001b[0m\u001b[0;34m]\u001b[0m\u001b[0;34m.\u001b[0m\u001b[0mequals\u001b[0m\u001b[0;34m(\u001b[0m\u001b[0mannual_ship_price\u001b[0m\u001b[0;34m[\u001b[0m\u001b[0;34m'Year'\u001b[0m\u001b[0;34m]\u001b[0m\u001b[0;34m)\u001b[0m\u001b[0;34m,\u001b[0m \u001b[0;34m\"Data mismatch\"\u001b[0m\u001b[0;34m\u001b[0m\u001b[0;34m\u001b[0m\u001b[0m\n\u001b[0m",
      "\u001b[0;31mAssertionError\u001b[0m: Data mismatch"
     ]
    }
   ],
   "source": [
    "assert merged_yearly_summary['Year'].equals(annual_ship_price['Year']), \"Data mismatch\""
   ]
  },
  {
   "cell_type": "code",
   "execution_count": 231,
   "id": "0a0bd0c8",
   "metadata": {},
   "outputs": [
    {
     "name": "stdout",
     "output_type": "stream",
     "text": [
      "    Year  Brent_Price_USD  Crude_Price_USD\n",
      "0   1987        18.525813       115.952710\n",
      "1   1988        14.905412        93.867980\n",
      "2   1989        18.228228       114.638600\n",
      "3   1990        23.761445       149.230670\n",
      "4   1991        20.041128       125.801750\n",
      "5   1992        19.319728       121.524200\n",
      "6   1993        17.013413       106.748184\n",
      "7   1994        15.856389        99.489710\n",
      "8   1995        17.015850       107.031510\n",
      "9   1996        20.639803       130.000660\n",
      "10  1997        19.108508       120.088560\n",
      "11  1998        12.758103        79.978966\n",
      "12  1999        17.901566       113.028190\n",
      "13  2000        28.660672       179.230680\n",
      "14  2001        24.455720       153.747200\n",
      "15  2002        24.993255       157.391280\n",
      "16  2003        28.850814       181.339360\n",
      "17  2004        38.259693       240.679200\n",
      "18  2005        54.574553       342.926730\n",
      "19  2006        65.161765       409.743130\n",
      "20  2007        72.441160       455.312800\n",
      "21  2008        96.944348       611.720640\n",
      "22  2009        61.738770       387.899930\n",
      "23  2010        79.609444       500.011020\n",
      "24  2011       111.264274       699.775450\n",
      "25  2012       111.570683       702.380070\n",
      "26  2013       108.555000       683.440300\n",
      "27  2014        98.969606       622.350600\n",
      "28  2015        52.316549       329.502260\n",
      "29  2016        43.638000       275.079160\n",
      "30  2017        54.124805       340.859620\n",
      "31  2018        71.335000       448.526000\n",
      "32  2019        64.300623       403.871640\n",
      "33  2020        41.957255       263.154820\n",
      "34  2021        70.855336       446.021640\n",
      "35  2022       106.860574       637.282530\n"
     ]
    }
   ],
   "source": [
    "print(merged_yearly_summary)"
   ]
  },
  {
   "cell_type": "code",
   "execution_count": 232,
   "id": "d37bcce3",
   "metadata": {},
   "outputs": [
    {
     "name": "stdout",
     "output_type": "stream",
     "text": [
      "    Year   310K_Tonner    74K_Tonner   MR_Products\n",
      "0   1988      0.000000      0.000000   9016.250000\n",
      "1   1989      0.000000      0.000000  10547.916667\n",
      "2   1990      0.000000      0.000000  11317.708333\n",
      "3   1991      0.000000      0.000000  12547.916667\n",
      "4   1992      0.000000      0.000000  10433.333333\n",
      "5   1993      0.000000      0.000000  10158.333333\n",
      "6   1994      0.000000      0.000000  11291.666667\n",
      "7   1995      0.000000      0.000000  13593.750000\n",
      "8   1996      0.000000      0.000000  14020.833333\n",
      "9   1997      0.000000      0.000000  14460.208333\n",
      "10  1998      0.000000      0.000000  13046.875000\n",
      "11  1999      0.000000      0.000000  11387.500000\n",
      "12  2000  35631.250000  11976.041667  14576.041667\n",
      "13  2001  40618.750000  22818.750000  18865.625000\n",
      "14  2002  25828.750000  16491.666667  13338.541667\n",
      "15  2003  34372.916667  18605.208333  14718.125000\n",
      "16  2004  55447.916667  24448.958333  18896.875000\n",
      "17  2005  58583.333333  31908.333333  26027.083333\n",
      "18  2006  58312.500000  31089.583333  27006.250000\n",
      "19  2007  55641.666667  29300.000000  25891.666667\n",
      "20  2008  73208.333333  29185.416667  23445.833333\n",
      "21  2009  39550.000000  19304.166667  15181.250000\n",
      "22  2010  38016.666667  16625.000000  13168.750000\n",
      "23  2011  25030.208333  14746.875000  13654.166667\n",
      "24  2012  22089.583333  12994.791667  13518.750000\n",
      "25  2013  19841.666667  14968.750000  14343.750000\n",
      "26  2014  28145.833333  15913.541667  14637.500000\n",
      "27  2015  48391.666667  23596.875000  17754.166667\n",
      "28  2016  36554.166667  18127.083333  15078.437500\n",
      "29  2017  27142.708333  13079.166667  13219.270833\n",
      "30  2018  22965.104167  12969.791667  13131.250000\n",
      "31  2019  36387.500000  16629.166667  14682.291667\n",
      "32  2020  39607.291667  16838.020833  14388.541667\n",
      "33  2021  20948.958333  13564.583333  12420.833333\n",
      "34  2022  16758.333333  16639.583333  15188.541667\n"
     ]
    }
   ],
   "source": [
    "print(annual_ship_price)"
   ]
  },
  {
   "cell_type": "code",
   "execution_count": 233,
   "id": "ac1d7a57",
   "metadata": {},
   "outputs": [],
   "source": [
    "merged_yearly_summary = merged_yearly_summary.iloc[1:]"
   ]
  },
  {
   "cell_type": "code",
   "execution_count": 234,
   "id": "2289811e",
   "metadata": {},
   "outputs": [
    {
     "name": "stdout",
     "output_type": "stream",
     "text": [
      "    Year  Brent_Price_USD  Crude_Price_USD\n",
      "1   1988        14.905412        93.867980\n",
      "2   1989        18.228228       114.638600\n",
      "3   1990        23.761445       149.230670\n",
      "4   1991        20.041128       125.801750\n",
      "5   1992        19.319728       121.524200\n",
      "6   1993        17.013413       106.748184\n",
      "7   1994        15.856389        99.489710\n",
      "8   1995        17.015850       107.031510\n",
      "9   1996        20.639803       130.000660\n",
      "10  1997        19.108508       120.088560\n",
      "11  1998        12.758103        79.978966\n",
      "12  1999        17.901566       113.028190\n",
      "13  2000        28.660672       179.230680\n",
      "14  2001        24.455720       153.747200\n",
      "15  2002        24.993255       157.391280\n",
      "16  2003        28.850814       181.339360\n",
      "17  2004        38.259693       240.679200\n",
      "18  2005        54.574553       342.926730\n",
      "19  2006        65.161765       409.743130\n",
      "20  2007        72.441160       455.312800\n",
      "21  2008        96.944348       611.720640\n",
      "22  2009        61.738770       387.899930\n",
      "23  2010        79.609444       500.011020\n",
      "24  2011       111.264274       699.775450\n",
      "25  2012       111.570683       702.380070\n",
      "26  2013       108.555000       683.440300\n",
      "27  2014        98.969606       622.350600\n",
      "28  2015        52.316549       329.502260\n",
      "29  2016        43.638000       275.079160\n",
      "30  2017        54.124805       340.859620\n",
      "31  2018        71.335000       448.526000\n",
      "32  2019        64.300623       403.871640\n",
      "33  2020        41.957255       263.154820\n",
      "34  2021        70.855336       446.021640\n",
      "35  2022       106.860574       637.282530\n"
     ]
    }
   ],
   "source": [
    "print(merged_yearly_summary)"
   ]
  },
  {
   "cell_type": "code",
   "execution_count": 235,
   "id": "79fdd290",
   "metadata": {},
   "outputs": [
    {
     "data": {
      "image/png": "[encoded data removed]",
      "text/plain": [
       "<Figure size 720x432 with 2 Axes>"
      ]
     },
     "metadata": {
      "needs_background": "light"
     },
     "output_type": "display_data"
    }
   ],
   "source": [
    "fig, ax1 = plt.subplots(figsize=(10, 6))\n",
    "\n",
    "ax1.plot(merged_yearly_summary['Year'], merged_yearly_summary['Brent_Price_USD'], color='blue', label='Brent Oil Price')\n",
    "ax1.set_xlabel('Year')\n",
    "ax1.set_ylabel('Brent Oil Price', color='blue')\n",
    "\n",
    "ax2 = ax1.twinx()\n",
    "\n",
    "ax2.plot(annual_ship_price['Year'], annual_ship_price['310K_Tonner'], color='orange', label='310K T Shipping Price')\n",
    "ax2.set_ylabel('310K T Shipping Price', color='orange')\n",
    "\n",
    "plt.title('Brent Oil & 310K T Ship prices')\n",
    "plt.grid()\n",
    "\n",
    "plt.show()"
   ]
  },
  {
   "cell_type": "code",
   "execution_count": 236,
   "id": "6adbdd0f",
   "metadata": {},
   "outputs": [
    {
     "data": {
      "image/png": "[encoded data removed]",
      "text/plain": [
       "<Figure size 720x432 with 2 Axes>"
      ]
     },
     "metadata": {
      "needs_background": "light"
     },
     "output_type": "display_data"
    }
   ],
   "source": [
    "fig, ax1 = plt.subplots(figsize=(10, 6))\n",
    "\n",
    "ax1.plot(merged_yearly_summary['Year'], merged_yearly_summary['Brent_Price_USD'], color='blue', label='Brent Oil Price')\n",
    "ax1.set_xlabel('Year')\n",
    "ax1.set_ylabel('Brent Oil Price (USD per barrell)', color='black')\n",
    "\n",
    "ax2 = ax1.twinx()\n",
    "\n",
    "ax2.plot(annual_ship_price['Year'], annual_ship_price['310K_Tonner'], color='orange', label='310K T Shipping Price')\n",
    "ax2.plot(annual_ship_price['Year'], annual_ship_price['74K_Tonner'], color='green', label='74K T Shipping Price')\n",
    "ax2.plot(annual_ship_price['Year'], annual_ship_price['MR_Products'], color='red', label='MR Products Shipping Price')\n",
    "ax2.set_ylabel('Shipping Prices (USD Daily Rate)', color='black')\n",
    "\n",
    "lines1, labels1 = ax1.get_legend_handles_labels()\n",
    "lines2, labels2 = ax2.get_legend_handles_labels()\n",
    "ax1.legend(lines1 + lines2, labels1 + labels2, loc='upper left')\n",
    "\n",
    "plt.title('Brent Oil & Shipping prices')\n",
    "\n",
    "\n",
    "plt.show()"
   ]
  },
  {
   "cell_type": "code",
   "execution_count": 237,
   "id": "170c113a",
   "metadata": {},
   "outputs": [
    {
     "data": {
      "text/html": [
       "<div>\n",
       "<style scoped>\n",
       "    .dataframe tbody tr th:only-of-type {\n",
       "        vertical-align: middle;\n",
       "    }\n",
       "\n",
       "    .dataframe tbody tr th {\n",
       "        vertical-align: top;\n",
       "    }\n",
       "\n",
       "    .dataframe thead th {\n",
       "        text-align: right;\n",
       "    }\n",
       "</style>\n",
       "<table border=\"1\" class=\"dataframe\">\n",
       "  <thead>\n",
       "    <tr style=\"text-align: right;\">\n",
       "      <th></th>\n",
       "      <th>Year</th>\n",
       "      <th>Brent_Price_USD</th>\n",
       "      <th>Crude_Price_USD</th>\n",
       "      <th>%</th>\n",
       "    </tr>\n",
       "  </thead>\n",
       "  <tbody>\n",
       "    <tr>\n",
       "      <th>count</th>\n",
       "      <td>36.000000</td>\n",
       "      <td>36.000000</td>\n",
       "      <td>36.000000</td>\n",
       "      <td>36.000000</td>\n",
       "    </tr>\n",
       "    <tr>\n",
       "      <th>mean</th>\n",
       "      <td>2004.500000</td>\n",
       "      <td>48.514258</td>\n",
       "      <td>304.156326</td>\n",
       "      <td>15.929760</td>\n",
       "    </tr>\n",
       "    <tr>\n",
       "      <th>std</th>\n",
       "      <td>10.535654</td>\n",
       "      <td>32.676880</td>\n",
       "      <td>203.988134</td>\n",
       "      <td>0.147132</td>\n",
       "    </tr>\n",
       "    <tr>\n",
       "      <th>min</th>\n",
       "      <td>1987.000000</td>\n",
       "      <td>12.758103</td>\n",
       "      <td>79.978966</td>\n",
       "      <td>15.838143</td>\n",
       "    </tr>\n",
       "    <tr>\n",
       "      <th>25%</th>\n",
       "      <td>1995.750000</td>\n",
       "      <td>19.266923</td>\n",
       "      <td>121.165290</td>\n",
       "      <td>15.884397</td>\n",
       "    </tr>\n",
       "    <tr>\n",
       "      <th>50%</th>\n",
       "      <td>2004.500000</td>\n",
       "      <td>40.108474</td>\n",
       "      <td>251.917010</td>\n",
       "      <td>15.903697</td>\n",
       "    </tr>\n",
       "    <tr>\n",
       "      <th>75%</th>\n",
       "      <td>2013.250000</td>\n",
       "      <td>70.975252</td>\n",
       "      <td>446.647730</td>\n",
       "      <td>15.921811</td>\n",
       "    </tr>\n",
       "    <tr>\n",
       "      <th>max</th>\n",
       "      <td>2022.000000</td>\n",
       "      <td>111.570683</td>\n",
       "      <td>702.380070</td>\n",
       "      <td>16.768163</td>\n",
       "    </tr>\n",
       "  </tbody>\n",
       "</table>\n",
       "</div>"
      ],
      "text/plain": [
       "              Year  Brent_Price_USD  Crude_Price_USD          %\n",
       "count    36.000000        36.000000        36.000000  36.000000\n",
       "mean   2004.500000        48.514258       304.156326  15.929760\n",
       "std      10.535654        32.676880       203.988134   0.147132\n",
       "min    1987.000000        12.758103        79.978966  15.838143\n",
       "25%    1995.750000        19.266923       121.165290  15.884397\n",
       "50%    2004.500000        40.108474       251.917010  15.903697\n",
       "75%    2013.250000        70.975252       446.647730  15.921811\n",
       "max    2022.000000       111.570683       702.380070  16.768163"
      ]
     },
     "execution_count": 237,
     "metadata": {},
     "output_type": "execute_result"
    }
   ],
   "source": [
    "annual_oil_price_comparison.describe()"
   ]
  },
  {
   "cell_type": "code",
   "execution_count": 238,
   "id": "54ed17c3",
   "metadata": {},
   "outputs": [
    {
     "data": {
      "image/png": "[encoded data removed]",
      "text/plain": [
       "<Figure size 720x432 with 2 Axes>"
      ]
     },
     "metadata": {
      "needs_background": "light"
     },
     "output_type": "display_data"
    }
   ],
   "source": [
    "fig, ax1 = plt.subplots(figsize=(10, 6))\n",
    "\n",
    "ax1.plot(merged_yearly_summary['Year'], merged_yearly_summary['Brent_Price_USD'], color='blue', label='Brent Oil Price')\n",
    "ax1.set_xlabel('Year')\n",
    "ax1.set_ylabel('Brent Oil Price (USD per barrell)', color='black')\n",
    "\n",
    "ax2 = ax1.twinx()\n",
    "\n",
    "ax2.plot(merged_yearly_summary['Year'], merged_yearly_summary['Crude_Price_USD'], color='orange', label='Crude Oil Price')\n",
    "ax2.set_ylabel('Crude Oil Price (USD per Cubic Metre)', color='black')\n",
    "\n",
    "lines1, labels1 = ax1.get_legend_handles_labels()\n",
    "lines2, labels2 = ax2.get_legend_handles_labels()\n",
    "ax1.legend(lines1 + lines2, labels1 + labels2, loc='upper left')\n",
    "\n",
    "plt.title('Oil Data Comparison')\n",
    "\n",
    "\n",
    "plt.show()"
   ]
  },
  {
   "cell_type": "code",
   "execution_count": 239,
   "id": "143e92be",
   "metadata": {},
   "outputs": [
    {
     "data": {
      "text/html": [
       "<div>\n",
       "<style scoped>\n",
       "    .dataframe tbody tr th:only-of-type {\n",
       "        vertical-align: middle;\n",
       "    }\n",
       "\n",
       "    .dataframe tbody tr th {\n",
       "        vertical-align: top;\n",
       "    }\n",
       "\n",
       "    .dataframe thead th {\n",
       "        text-align: right;\n",
       "    }\n",
       "</style>\n",
       "<table border=\"1\" class=\"dataframe\">\n",
       "  <thead>\n",
       "    <tr style=\"text-align: right;\">\n",
       "      <th></th>\n",
       "      <th>Year</th>\n",
       "      <th>310K_Tonner</th>\n",
       "      <th>74K_Tonner</th>\n",
       "      <th>MR_Products</th>\n",
       "    </tr>\n",
       "  </thead>\n",
       "  <tbody>\n",
       "    <tr>\n",
       "      <th>count</th>\n",
       "      <td>35.000000</td>\n",
       "      <td>35.000000</td>\n",
       "      <td>35.000000</td>\n",
       "      <td>35.000000</td>\n",
       "    </tr>\n",
       "    <tr>\n",
       "      <th>mean</th>\n",
       "      <td>2005.000000</td>\n",
       "      <td>24545.002976</td>\n",
       "      <td>12623.467262</td>\n",
       "      <td>14998.738095</td>\n",
       "    </tr>\n",
       "    <tr>\n",
       "      <th>std</th>\n",
       "      <td>10.246951</td>\n",
       "      <td>21631.099843</td>\n",
       "      <td>10510.432693</td>\n",
       "      <td>4444.312872</td>\n",
       "    </tr>\n",
       "    <tr>\n",
       "      <th>min</th>\n",
       "      <td>1988.000000</td>\n",
       "      <td>0.000000</td>\n",
       "      <td>0.000000</td>\n",
       "      <td>9016.250000</td>\n",
       "    </tr>\n",
       "    <tr>\n",
       "      <th>25%</th>\n",
       "      <td>1996.500000</td>\n",
       "      <td>0.000000</td>\n",
       "      <td>0.000000</td>\n",
       "      <td>12797.395833</td>\n",
       "    </tr>\n",
       "    <tr>\n",
       "      <th>50%</th>\n",
       "      <td>2005.000000</td>\n",
       "      <td>25030.208333</td>\n",
       "      <td>14746.875000</td>\n",
       "      <td>14020.833333</td>\n",
       "    </tr>\n",
       "    <tr>\n",
       "      <th>75%</th>\n",
       "      <td>2013.500000</td>\n",
       "      <td>38783.333333</td>\n",
       "      <td>18366.145833</td>\n",
       "      <td>15129.843750</td>\n",
       "    </tr>\n",
       "    <tr>\n",
       "      <th>max</th>\n",
       "      <td>2022.000000</td>\n",
       "      <td>73208.333333</td>\n",
       "      <td>31908.333333</td>\n",
       "      <td>27006.250000</td>\n",
       "    </tr>\n",
       "  </tbody>\n",
       "</table>\n",
       "</div>"
      ],
      "text/plain": [
       "              Year   310K_Tonner    74K_Tonner   MR_Products\n",
       "count    35.000000     35.000000     35.000000     35.000000\n",
       "mean   2005.000000  24545.002976  12623.467262  14998.738095\n",
       "std      10.246951  21631.099843  10510.432693   4444.312872\n",
       "min    1988.000000      0.000000      0.000000   9016.250000\n",
       "25%    1996.500000      0.000000      0.000000  12797.395833\n",
       "50%    2005.000000  25030.208333  14746.875000  14020.833333\n",
       "75%    2013.500000  38783.333333  18366.145833  15129.843750\n",
       "max    2022.000000  73208.333333  31908.333333  27006.250000"
      ]
     },
     "execution_count": 239,
     "metadata": {},
     "output_type": "execute_result"
    }
   ],
   "source": [
    "annual_ship_price.describe()"
   ]
  },
  {
   "cell_type": "code",
   "execution_count": 240,
   "id": "07a5b514",
   "metadata": {},
   "outputs": [],
   "source": [
    "annual_ship_price_noblank = annual_ship_price.iloc[12:]"
   ]
  },
  {
   "cell_type": "code",
   "execution_count": 241,
   "id": "4f1932ef",
   "metadata": {},
   "outputs": [
    {
     "name": "stdout",
     "output_type": "stream",
     "text": [
      "    Year   310K_Tonner    74K_Tonner   MR_Products\n",
      "12  2000  35631.250000  11976.041667  14576.041667\n",
      "13  2001  40618.750000  22818.750000  18865.625000\n",
      "14  2002  25828.750000  16491.666667  13338.541667\n",
      "15  2003  34372.916667  18605.208333  14718.125000\n",
      "16  2004  55447.916667  24448.958333  18896.875000\n",
      "17  2005  58583.333333  31908.333333  26027.083333\n",
      "18  2006  58312.500000  31089.583333  27006.250000\n",
      "19  2007  55641.666667  29300.000000  25891.666667\n",
      "20  2008  73208.333333  29185.416667  23445.833333\n",
      "21  2009  39550.000000  19304.166667  15181.250000\n",
      "22  2010  38016.666667  16625.000000  13168.750000\n",
      "23  2011  25030.208333  14746.875000  13654.166667\n",
      "24  2012  22089.583333  12994.791667  13518.750000\n",
      "25  2013  19841.666667  14968.750000  14343.750000\n",
      "26  2014  28145.833333  15913.541667  14637.500000\n",
      "27  2015  48391.666667  23596.875000  17754.166667\n",
      "28  2016  36554.166667  18127.083333  15078.437500\n",
      "29  2017  27142.708333  13079.166667  13219.270833\n",
      "30  2018  22965.104167  12969.791667  13131.250000\n",
      "31  2019  36387.500000  16629.166667  14682.291667\n",
      "32  2020  39607.291667  16838.020833  14388.541667\n",
      "33  2021  20948.958333  13564.583333  12420.833333\n",
      "34  2022  16758.333333  16639.583333  15188.541667\n"
     ]
    }
   ],
   "source": [
    "print(annual_ship_price_noblank)"
   ]
  },
  {
   "cell_type": "code",
   "execution_count": 242,
   "id": "34e266d3",
   "metadata": {},
   "outputs": [
    {
     "data": {
      "text/html": [
       "<div>\n",
       "<style scoped>\n",
       "    .dataframe tbody tr th:only-of-type {\n",
       "        vertical-align: middle;\n",
       "    }\n",
       "\n",
       "    .dataframe tbody tr th {\n",
       "        vertical-align: top;\n",
       "    }\n",
       "\n",
       "    .dataframe thead th {\n",
       "        text-align: right;\n",
       "    }\n",
       "</style>\n",
       "<table border=\"1\" class=\"dataframe\">\n",
       "  <thead>\n",
       "    <tr style=\"text-align: right;\">\n",
       "      <th></th>\n",
       "      <th>Year</th>\n",
       "      <th>310K_Tonner</th>\n",
       "      <th>74K_Tonner</th>\n",
       "      <th>MR_Products</th>\n",
       "    </tr>\n",
       "  </thead>\n",
       "  <tbody>\n",
       "    <tr>\n",
       "      <th>count</th>\n",
       "      <td>23.00000</td>\n",
       "      <td>23.000000</td>\n",
       "      <td>23.000000</td>\n",
       "      <td>23.000000</td>\n",
       "    </tr>\n",
       "    <tr>\n",
       "      <th>mean</th>\n",
       "      <td>2011.00000</td>\n",
       "      <td>37351.091486</td>\n",
       "      <td>19209.624094</td>\n",
       "      <td>16657.980072</td>\n",
       "    </tr>\n",
       "    <tr>\n",
       "      <th>std</th>\n",
       "      <td>6.78233</td>\n",
       "      <td>14935.254987</td>\n",
       "      <td>6201.348509</td>\n",
       "      <td>4547.735860</td>\n",
       "    </tr>\n",
       "    <tr>\n",
       "      <th>min</th>\n",
       "      <td>2000.00000</td>\n",
       "      <td>16758.333333</td>\n",
       "      <td>11976.041667</td>\n",
       "      <td>12420.833333</td>\n",
       "    </tr>\n",
       "    <tr>\n",
       "      <th>25%</th>\n",
       "      <td>2005.50000</td>\n",
       "      <td>25429.479167</td>\n",
       "      <td>14857.812500</td>\n",
       "      <td>13586.458333</td>\n",
       "    </tr>\n",
       "    <tr>\n",
       "      <th>50%</th>\n",
       "      <td>2011.00000</td>\n",
       "      <td>36387.500000</td>\n",
       "      <td>16639.583333</td>\n",
       "      <td>14682.291667</td>\n",
       "    </tr>\n",
       "    <tr>\n",
       "      <th>75%</th>\n",
       "      <td>2016.50000</td>\n",
       "      <td>44505.208333</td>\n",
       "      <td>23207.812500</td>\n",
       "      <td>18309.895833</td>\n",
       "    </tr>\n",
       "    <tr>\n",
       "      <th>max</th>\n",
       "      <td>2022.00000</td>\n",
       "      <td>73208.333333</td>\n",
       "      <td>31908.333333</td>\n",
       "      <td>27006.250000</td>\n",
       "    </tr>\n",
       "  </tbody>\n",
       "</table>\n",
       "</div>"
      ],
      "text/plain": [
       "             Year   310K_Tonner    74K_Tonner   MR_Products\n",
       "count    23.00000     23.000000     23.000000     23.000000\n",
       "mean   2011.00000  37351.091486  19209.624094  16657.980072\n",
       "std       6.78233  14935.254987   6201.348509   4547.735860\n",
       "min    2000.00000  16758.333333  11976.041667  12420.833333\n",
       "25%    2005.50000  25429.479167  14857.812500  13586.458333\n",
       "50%    2011.00000  36387.500000  16639.583333  14682.291667\n",
       "75%    2016.50000  44505.208333  23207.812500  18309.895833\n",
       "max    2022.00000  73208.333333  31908.333333  27006.250000"
      ]
     },
     "execution_count": 242,
     "metadata": {},
     "output_type": "execute_result"
    }
   ],
   "source": [
    "annual_ship_price_noblank.describe()"
   ]
  },
  {
   "cell_type": "code",
   "execution_count": 243,
   "id": "f938990b",
   "metadata": {},
   "outputs": [],
   "source": [
    "annual_ship_price_noblank = annual_ship_price_noblank.reset_index(drop=True)"
   ]
  },
  {
   "cell_type": "code",
   "execution_count": 244,
   "id": "2130b430",
   "metadata": {},
   "outputs": [
    {
     "name": "stdout",
     "output_type": "stream",
     "text": [
      "    Year   310K_Tonner    74K_Tonner   MR_Products\n",
      "0   2000  35631.250000  11976.041667  14576.041667\n",
      "1   2001  40618.750000  22818.750000  18865.625000\n",
      "2   2002  25828.750000  16491.666667  13338.541667\n",
      "3   2003  34372.916667  18605.208333  14718.125000\n",
      "4   2004  55447.916667  24448.958333  18896.875000\n",
      "5   2005  58583.333333  31908.333333  26027.083333\n",
      "6   2006  58312.500000  31089.583333  27006.250000\n",
      "7   2007  55641.666667  29300.000000  25891.666667\n",
      "8   2008  73208.333333  29185.416667  23445.833333\n",
      "9   2009  39550.000000  19304.166667  15181.250000\n",
      "10  2010  38016.666667  16625.000000  13168.750000\n",
      "11  2011  25030.208333  14746.875000  13654.166667\n",
      "12  2012  22089.583333  12994.791667  13518.750000\n",
      "13  2013  19841.666667  14968.750000  14343.750000\n",
      "14  2014  28145.833333  15913.541667  14637.500000\n",
      "15  2015  48391.666667  23596.875000  17754.166667\n",
      "16  2016  36554.166667  18127.083333  15078.437500\n",
      "17  2017  27142.708333  13079.166667  13219.270833\n",
      "18  2018  22965.104167  12969.791667  13131.250000\n",
      "19  2019  36387.500000  16629.166667  14682.291667\n",
      "20  2020  39607.291667  16838.020833  14388.541667\n",
      "21  2021  20948.958333  13564.583333  12420.833333\n",
      "22  2022  16758.333333  16639.583333  15188.541667\n"
     ]
    }
   ],
   "source": [
    "print(annual_ship_price_noblank)"
   ]
  },
  {
   "cell_type": "code",
   "execution_count": 245,
   "id": "68e7705e",
   "metadata": {},
   "outputs": [
    {
     "name": "stdout",
     "output_type": "stream",
     "text": [
      "    Year  Brent_Price_USD  Crude_Price_USD\n",
      "1   1988        14.905412        93.867980\n",
      "2   1989        18.228228       114.638600\n",
      "3   1990        23.761445       149.230670\n",
      "4   1991        20.041128       125.801750\n",
      "5   1992        19.319728       121.524200\n",
      "6   1993        17.013413       106.748184\n",
      "7   1994        15.856389        99.489710\n",
      "8   1995        17.015850       107.031510\n",
      "9   1996        20.639803       130.000660\n",
      "10  1997        19.108508       120.088560\n",
      "11  1998        12.758103        79.978966\n",
      "12  1999        17.901566       113.028190\n",
      "13  2000        28.660672       179.230680\n",
      "14  2001        24.455720       153.747200\n",
      "15  2002        24.993255       157.391280\n",
      "16  2003        28.850814       181.339360\n",
      "17  2004        38.259693       240.679200\n",
      "18  2005        54.574553       342.926730\n",
      "19  2006        65.161765       409.743130\n",
      "20  2007        72.441160       455.312800\n",
      "21  2008        96.944348       611.720640\n",
      "22  2009        61.738770       387.899930\n",
      "23  2010        79.609444       500.011020\n",
      "24  2011       111.264274       699.775450\n",
      "25  2012       111.570683       702.380070\n",
      "26  2013       108.555000       683.440300\n",
      "27  2014        98.969606       622.350600\n",
      "28  2015        52.316549       329.502260\n",
      "29  2016        43.638000       275.079160\n",
      "30  2017        54.124805       340.859620\n",
      "31  2018        71.335000       448.526000\n",
      "32  2019        64.300623       403.871640\n",
      "33  2020        41.957255       263.154820\n",
      "34  2021        70.855336       446.021640\n",
      "35  2022       106.860574       637.282530\n"
     ]
    }
   ],
   "source": [
    "print(merged_yearly_summary)"
   ]
  },
  {
   "cell_type": "code",
   "execution_count": 246,
   "id": "2c4a6b27",
   "metadata": {},
   "outputs": [
    {
     "name": "stdout",
     "output_type": "stream",
     "text": [
      "Correlation coefficient between Brent_Price_USD and Crude_Price_USD: 0.999614124477346\n"
     ]
    }
   ],
   "source": [
    "correlation = merged_yearly_summary['Brent_Price_USD'].corr(merged_yearly_summary['Crude_Price_USD'])\n",
    "print(f\"Correlation coefficient between Brent_Price_USD and Crude_Price_USD: {correlation}\")"
   ]
  },
  {
   "cell_type": "code",
   "execution_count": null,
   "id": "b6e75b97",
   "metadata": {},
   "outputs": [],
   "source": []
  }
 ],
 "metadata": {
  "kernelspec": {
   "display_name": "Python 3",
   "language": "python",
   "name": "python3"
  },
  "language_info": {
   "codemirror_mode": {
    "name": "ipython",
    "version": 3
   },
   "file_extension": ".py",
   "mimetype": "text/x-python",
   "name": "python",
   "nbconvert_exporter": "python",
   "pygments_lexer": "ipython3",
   "version": "3.8.8"
  }
 },
 "nbformat": 4,
 "nbformat_minor": 5
}
